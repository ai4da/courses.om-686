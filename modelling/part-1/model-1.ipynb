{
 "cells": [
  {
   "cell_type": "markdown",
   "metadata": {},
   "source": [
    "# Creating Your First Model Using Pyomo\n",
    "\n",
    "**Pyomo** is a powerful tool for modeling and solving optimization problems in Python. It allows us to create and manipulate optimization models using classes and objects, and communicate with various solvers to obtain optimal solutions. Pyomo supports a wide range of optimization problems, such as linear programming, mixed-integer programming, and nonlinear programming. Pyomo is widely used in different fields, such as energy, logistics, finance, and engineering, to address complex real-world challenges. You can find more information about Pyomo on their [website](https://www.pyomo.org/) or their [documentation](https://pyomo.readthedocs.io/en/stable/).\n",
    "\n",
    "## Overview of modeling components and processes\n",
    "\n",
    "- A Pyomo model is composed of various modeling components that represent different aspects of the problem we want to solve. These components are implemented as Python classes in Pyomo, which we briefly describe below:\n",
    "\n",
    "    - *Set*: A collection of indices that can be used to define the scope or domain of other components. For example, we can use a set to represent the products, customers, or time periods in a model.\n",
    "    - *Param*: A numerical or symbolic value that can be used to specify data or coefficients in a model. For example, we can use a parameter to represent the demand, cost, or profit of a product in a model. A parameter can depend on sets or other parameters.\n",
    "    - *Var*: A symbolic placeholder for a decision that we want to make in a model. A decision variable has a domain, bounds, and potentially an initial value. For example, we can use a variable to represent the quantity, price, or allocation of a product in a model. Variables can be scalar or indexed by sets.\n",
    "    - *Objective*: An objective is a scalar expression that defines the goal or criterion that we want to optimize in a model. For example, we can use an objective to minimize the total cost or maximize the total profit of a model. The objective function of the model can be either minimization or maximization.\n",
    "    - *Constraint*: A logical or algebraic expression that defines a restriction or requirement that must be satisfied by the variables in a model. For example, we can use a constraint to ensure that the supply meets the demand, or that the budget is not exceeded in a model."
   ]
  },
  {
   "cell_type": "markdown",
   "metadata": {},
   "source": [
    "## Concrete models in Pyomo\n",
    "\n",
    "Pyomo enables users to define mathematical models using a concrete approach. A concrete model is a specific instance of a mathematical problem that has the data values assigned at the time of model creation. For example, consider the following form of a linear program (LP) that aims to find the optimal values for the decision vector$\\boldsymbol{x}$:\n",
    "\n",
    "$$\n",
    "\\begin{array}{rll}\n",
    "    \\max        & \\sum_{j=1}^n c_j\\, x_j \\\\[5pt]\n",
    "    \\text{s.t.} & \\sum_{j=1}^n a_{ij}\\, x_j \\leq b_i, & \\forall i = 1, \\ldots, m\\\\[5pt]\n",
    "                & x_j \\geq 0, & \\forall j = 1, \\ldots, n\n",
    "\\end{array}\n",
    "$$\n",
    "\n",
    "The following LP problem is a concrete model of the above general form, as it uses specific numbers to represent the data values.\n",
    "\n",
    "$$\n",
    "\\begin{array}{rl}\n",
    "    \\max        & x_1 + x_2 + 2\\, x_3 \\\\[5pt]\n",
    "    \\text{s.t.} & x_1 + 2\\, x_2 + 3\\, x_3 \\le 4 \\\\\n",
    "    & -x_1 - x_2 \\le -1 \\\\[5pt]\n",
    "    & x_1, x_2, x_3 \\geq 0\n",
    "\\end{array}\n",
    "$$\n",
    "\n",
    "Pyomo provides the `ConcreteModel` class for defining concrete models in Python. A concrete model can be created by assigning values to the model components, such as parameters, variables, constraints, or objectives.\n",
    "\n",
    "In the next section, we will demonstrate how to create and solve a simple concrete model using Pyomo."
   ]
  },
  {
   "cell_type": "markdown",
   "metadata": {},
   "source": [
    "## A simple concrete Pyomo model\n",
    "\n",
    "In this section, we implement the above concrete model step by step."
   ]
  },
  {
   "cell_type": "markdown",
   "metadata": {},
   "source": [
    "### Step 1: Install Pyomo and import required libraries"
   ]
  },
  {
   "cell_type": "markdown",
   "metadata": {},
   "source": [
    "To use Pyomo, you need to install a solver that can handle the type of problem you want to solve. You have two main choices for your solver:\n",
    "\n",
    "1. Commercial solvers: These are solvers that offer more performance and features for more complex or specialized problems. Some examples are [IBM CPLEX](https://www.ibm.com/products/ilog-cplex-optimization-studio/) and [Gurobi](https://www.gurobi.com/), which are widely used in industry and academia for their fast and powerful solvers. In this course, we suggest using Gurobi's Python package, *gurobipy*.\n",
    "    - Gurobi has a free version that can handle up to 2000 variables and 2000 constraints.\n",
    "    - You can also get a free academic license that gives you access to the full Gurobi solver for your class and projects. To get your free academic license for web services like Colab:\n",
    "        1. [Register](https://portal.gurobi.com/iam/register/) for a free Gurobi account as an academic and log in.\n",
    "        2. Visit the [Gurobi User Portal](https://portal.gurobi.com/iam/licenses/request?type=academic).\n",
    "        3. Request your Academic WLS License.\n",
    "        4. [Read more](https://support.gurobi.com/hc/en-us/articles/4409582394769-Google-Colab-Installation-and-Licensing).\n",
    "2. *glpk*: The GNU Linear Programming Kit ([GLPK](https://www.gnu.org/software/glpk/)) is a free and open-source solver that can handle linear programming (LP) and mixed integer programming (MIP) problems, as well as some other related ones. GLPK uses various methods and algorithms to find optimal solutions efficiently for different kinds of problems.\n",
    "\n",
    "If you want to use Gurobi, install its Python package using the following command:"
   ]
  },
  {
   "cell_type": "code",
   "execution_count": null,
   "metadata": {},
   "outputs": [],
   "source": [
    "!pip install gurobipy"
   ]
  },
  {
   "cell_type": "markdown",
   "metadata": {},
   "source": [
    "Using the GLPK package instead of GurobiPy, require additional steps to install and configure. First, we need to install the `glpk-utils` and `libglpk-dev` packages, which provide dependencies required for the GLPK package. We use the `!apt install` command in a code cell to install system packages:"
   ]
  },
  {
   "cell_type": "code",
   "execution_count": null,
   "metadata": {},
   "outputs": [],
   "source": [
    "!apt install glpk-utils libglpk-dev"
   ]
  },
  {
   "cell_type": "markdown",
   "metadata": {},
   "source": [
    "Now, we can install the GLPK Python package by executing the following command:"
   ]
  },
  {
   "cell_type": "code",
   "execution_count": null,
   "metadata": {},
   "outputs": [],
   "source": [
    "!pip install glpk"
   ]
  },
  {
   "cell_type": "markdown",
   "metadata": {},
   "source": [
    "After installing the solver, we install the Pyomo package by executing the following command:"
   ]
  },
  {
   "cell_type": "code",
   "execution_count": null,
   "metadata": {},
   "outputs": [],
   "source": [
    "!pip install pyomo"
   ]
  },
  {
   "cell_type": "code",
   "execution_count": null,
   "metadata": {},
   "outputs": [],
   "source": [
    "import pyomo.environ as pyo\n",
    "from pyomo.opt import SolverFactory"
   ]
  },
  {
   "cell_type": "markdown",
   "metadata": {},
   "source": [
    "This first line imports the `environ` module from `pyomo` and gives it an alias `pyo`. This module includes the core components of Pyomo. The second line imports the `SolverFactory` function from the `pyomo.opt` module. `SolverFactory` is used to create an object that can be configured to solve optimization problems with a specific solver."
   ]
  },
  {
   "cell_type": "markdown",
   "metadata": {},
   "source": [
    "### Step 2: Create the model object"
   ]
  },
  {
   "cell_type": "code",
   "execution_count": null,
   "metadata": {},
   "outputs": [],
   "source": [
    "mod = pyo.ConcreteModel(name=\"my_first_model\")"
   ]
  },
  {
   "cell_type": "markdown",
   "metadata": {},
   "source": [
    "This line creates an instance of a `ConcreteModel`, which is a class in Pyomo used to define the components of your optimization model, such as variables, constraints, and objective functions. The `name` parameter assigns a name to the model, which can be helpful for identification purposes when dealing with multiple models."
   ]
  },
  {
   "cell_type": "markdown",
   "metadata": {},
   "source": [
    "### Step 3: Define the decision variables and their domains\n",
    "\n",
    "The `pyo.Var()` class in Pyomo is used to create a variable object for the optimization model. Use this class to define one or more variables for your model, and specify their attributes, such as name, domain, bounds, and initial value. For more information about this function run:"
   ]
  },
  {
   "cell_type": "code",
   "execution_count": null,
   "metadata": {},
   "outputs": [],
   "source": [
    "help(pyo.Var)"
   ]
  },
  {
   "cell_type": "markdown",
   "metadata": {},
   "source": [
    "We define the variables in our model as follows."
   ]
  },
  {
   "cell_type": "code",
   "execution_count": null,
   "metadata": {},
   "outputs": [],
   "source": [
    "mod.x1 = pyo.Var(name=\"x1\", domain=pyo.NonNegativeReals)\n",
    "mod.x2 = pyo.Var(name=\"x2\", domain=pyo.NonNegativeReals)\n",
    "mod.x3 = pyo.Var(name=\"x3\", domain=pyo.NonNegativeReals)"
   ]
  },
  {
   "cell_type": "markdown",
   "metadata": {},
   "source": [
    "`mod.x1`, `mod.x2`, and `mod.x3` are instances of the `Var` class in Pyomo. The `name` argument specifies the name of the model component, such as a variable, an objective, or a constraint. It is an optional argument, but it can be useful for identifying and displaying the components in a clear and meaningful way.\n",
    "\n",
    "The `domain` argument specifies the set of allowable values for the variables. In this case, `pyo.NonNegativeReals` indicates that the variable must be real numbers greater than or equal to zero. Pyomo offers a variety of pre-defined virtual sets that serve as domains for variables within an optimization model:\n",
    "\n",
    "- `Reals`: This set includes all floating-point numbers, allowing for fractional values.\n",
    "- `PositiveReals`: Comprising strictly positive floating-point numbers, this set excludes zero.\n",
    "- `NonPositiveReals`: This set encompasses all non-positive floating-point numbers, including zero and negative values.\n",
    "- `NegativeReals`: Dedicated to strictly negative floating-point numbers, this set does not include zero.\n",
    "- `NonNegativeReals`: Including zero and all positive floating-point numbers, this set ensures variables are not negative.\n",
    "- `Integers`: This set is for integer values, both positive and negative, including zero.\n",
    "- `PositiveIntegers`: Containing only positive integers, this set starts from one and increases.\n",
    "- `NonPositiveIntegers`: This set includes zero and negative integers, excluding positive numbers.\n",
    "- `NegativeIntegers`: Comprising strictly negative integers, this set does not contain zero.\n",
    "- `NonNegativeIntegers`: Starting from zero, this set includes all positive integers.\n",
    "- `Binary`: A specialized set representing binary values, it contains only the integers $\\{0, 1\\}$"
   ]
  },
  {
   "cell_type": "markdown",
   "metadata": {},
   "source": [
    "### Step 4: Define the objective function\n",
    "\n",
    "To define the objective function of a Pyomo model, we use the `pyo.Objective()` class."
   ]
  },
  {
   "cell_type": "code",
   "execution_count": null,
   "metadata": {},
   "outputs": [],
   "source": [
    "mod.obj = pyo.Objective(expr=mod.x1 + mod.x2 + 2 * mod.x3, sense=pyo.maximize)"
   ]
  },
  {
   "cell_type": "markdown",
   "metadata": {},
   "source": [
    "`mod.obj` is a new component in the model `mod`, which represents the objective function of the optimization problem.\n",
    "The `expr` argument specifies the expression that makes up the objective function.\n",
    "The `sense` argument determines whether the objective function should be maximized or minimized. Here, `pyo.maximize` indicates that the goal is to maximize the objective function, meaning that the solver will try to find the optimal values of the decision variables that result in the highest possible value of the objective expression. This is opposed to `pyo.minimize`, where the solver will try to find the optimal values that result in the lowest possible value of the objective expression."
   ]
  },
  {
   "cell_type": "markdown",
   "metadata": {},
   "source": [
    "### Step 5: Define the constraints"
   ]
  },
  {
   "cell_type": "code",
   "execution_count": null,
   "metadata": {},
   "outputs": [],
   "source": [
    "mod.con1 = pyo.Constraint(name=\"con1\", expr=mod.x1 + 2 * mod.x2 + 3 * mod.x3 <= 4)\n",
    "mod.con2 = pyo.Constraint(name=\"con2\", expr=mod.x1 + mod.x2 >= 1)"
   ]
  },
  {
   "cell_type": "markdown",
   "metadata": {},
   "source": [
    "The code snippet defines two new components within our model, `con1` and `con2`, using the `pyo.Constraint` class from Pyomo. This class is crucial for establishing constraints that dictate the permissible solutions for the optimization problem. Each constraint is given a unique identifier through the `name` argument. The `expr` argument specifies the mathematical expression of the constraint, which can be an equality (`==`) or inequality (`<=` or `>=`). `con1` and `con2` establish a system of equations that, together with the variable domains, define the feasible region of the optimization problem."
   ]
  },
  {
   "cell_type": "markdown",
   "metadata": {},
   "source": [
    "*Note*. The `expr` option is available only in concrete models."
   ]
  },
  {
   "cell_type": "markdown",
   "metadata": {},
   "source": [
    "### Step 6 (optional): Write the model as an LP file"
   ]
  },
  {
   "cell_type": "markdown",
   "metadata": {},
   "source": [
    "To review the structure of your model, you can export it as an LP file before solving. The LP file format is a standard way to represent linear programs and can be useful for debugging or documentation purposes. To perform this export, use the `write` method available on the model object. This method requires a filename as an argument and can accept additional arguments to customize the output. For instance:"
   ]
  },
  {
   "cell_type": "code",
   "execution_count": null,
   "metadata": {},
   "outputs": [],
   "source": [
    "filename = mod.name + \".lp\"\n",
    "mod.write(filename, io_options={\"symbolic_solver_labels\": True})"
   ]
  },
  {
   "cell_type": "markdown",
   "metadata": {},
   "source": [
    "Executing the above code will generate an LP file titled 'my_first_model.lp' in the current working directory. The `io_options` parameter with `{\"symbolic_solver_labels\": True}` ensures that the variables and constraints within the file are labeled symbolically, corresponding to their names in the model, rather than using generic numerical identifiers. This makes the LP file more readable and easier to understand, especially when cross-referencing with your Pyomo model."
   ]
  },
  {
   "cell_type": "markdown",
   "metadata": {},
   "source": [
    "### Step 7: Initialize the Solver and execute the model\n",
    "\n",
    "#### Using GLPK:\n",
    "\n",
    "To perform the optimization, we first need to create a solver object. This is done by invoking the `SolverFactory` class and passing the name of the desired solver as an argument:"
   ]
  },
  {
   "cell_type": "code",
   "execution_count": null,
   "metadata": {},
   "outputs": [],
   "source": [
    "opt = SolverFactory(\"glpk\")"
   ]
  },
  {
   "cell_type": "markdown",
   "metadata": {},
   "source": [
    "`opt` is the variable that will hold our solver object. `\"glpk\"` specifies that we want to use the GNU Linear Programming Kit (GLPK) solver.\n",
    "\n",
    "Once the solver object is created, we can proceed to solve our model:"
   ]
  },
  {
   "cell_type": "code",
   "execution_count": null,
   "metadata": {},
   "outputs": [],
   "source": [
    "result = opt.solve(mod)"
   ]
  },
  {
   "cell_type": "markdown",
   "metadata": {},
   "source": [
    "`result` is the variable where the outcome of the optimization will be stored. `opt.solve(mod)` is the method call that executes the solver on our model mod."
   ]
  },
  {
   "cell_type": "markdown",
   "metadata": {},
   "source": [
    "### Step 8: Display and interpret the results"
   ]
  },
  {
   "cell_type": "markdown",
   "metadata": {},
   "source": [
    "After solving the optimization model, it is important to review the results. The following code block prints the objective value and the optimal values of the decision variables:"
   ]
  },
  {
   "cell_type": "code",
   "execution_count": null,
   "metadata": {},
   "outputs": [],
   "source": [
    "print(\"Objective value =\", mod.obj())\n",
    "print(\"x1 =             \", mod.x1())\n",
    "print(\"x2 =             \", mod.x2())\n",
    "print(\"x3 =             \", mod.x3())\n",
    "print(\"solution status =\", result.solver.termination_condition)"
   ]
  },
  {
   "cell_type": "markdown",
   "metadata": {},
   "source": [
    "`mod.obj()` retrieves the value of the objective function at the optimal solution. `mod.x1()`, `mod.x2()`, and `mod.x3()` display the optimal values of the variables `x1`, `x2`, and `x3`, respectively.\n",
    "`result.solver.termination_condition indicates` the status of the solution process, such as whether an optimal solution was found."
   ]
  },
  {
   "cell_type": "markdown",
   "metadata": {},
   "source": [
    "#### Using Gurobi:\n",
    "\n",
    "To use `gurobipy` instead of `glpk`, you run the following command instead of `opt = SolverFactory(\"glpk\")`:"
   ]
  },
  {
   "cell_type": "code",
   "execution_count": null,
   "metadata": {},
   "outputs": [],
   "source": [
    "# For a free Gurobi license, use this:\n",
    "opt = SolverFactory(\"gurobi\", solver_io=\"python\")"
   ]
  },
  {
   "cell_type": "code",
   "execution_count": null,
   "metadata": {},
   "outputs": [],
   "source": [
    "# For a WSL Gurobi license, use this:\n",
    "solver_options = {\n",
    "    \"WLSACCESSID\": \"...\",  # your WSL access id (string)\n",
    "    \"WLSSECRET\": \"...\",  # your WSL secret (string)\n",
    "    \"LICENSEID\": ...,  # your license id (integer)\n",
    "}\n",
    "opt = SolverFactory(\"gurobi\", solver_io=\"python\", manage_env=True, options=solver_options)"
   ]
  },
  {
   "cell_type": "code",
   "execution_count": null,
   "metadata": {},
   "outputs": [],
   "source": [
    "result = opt.solve(mod)"
   ]
  },
  {
   "cell_type": "markdown",
   "metadata": {},
   "source": [
    "To retrieve the optimal values of the objective function and decision variables, you can also utilize the `pyo.value()` function provided by Pyomo. This function is designed to evaluate and return the numerical value of a Pyomo expression. For instance, when you apply `pyo.value()` to the objective function `mod.obj`, it computes and returns the objective's optimal value.\n",
    "The following code demonstrates how to use `pyo.value()` to obtain and print the optimal values:"
   ]
  },
  {
   "cell_type": "code",
   "execution_count": null,
   "metadata": {},
   "outputs": [],
   "source": [
    "print(\"Objective value =\", pyo.value(mod.obj))\n",
    "print(\"x1 =             \", pyo.value(mod.x1))\n",
    "print(\"x2 =             \", pyo.value(mod.x2))\n",
    "print(\"x3 =             \", pyo.value(mod.x3))"
   ]
  },
  {
   "cell_type": "markdown",
   "metadata": {},
   "source": [
    "\n",
    "Alternatively, for a comprehensive overview of the model and its solution, you can use:"
   ]
  },
  {
   "cell_type": "code",
   "execution_count": null,
   "metadata": {},
   "outputs": [],
   "source": [
    "mod.display()"
   ]
  },
  {
   "cell_type": "code",
   "execution_count": null,
   "metadata": {},
   "outputs": [],
   "source": [
    "print(result)"
   ]
  },
  {
   "cell_type": "markdown",
   "metadata": {},
   "source": [
    "`mod.display()` provides detailed information about the model, including the values of all variables, the final objective function value, and the status of constraints.\n",
    "`print(result)` outputs the complete solver results, which can include solver-specific statistics and messages."
   ]
  },
  {
   "cell_type": "markdown",
   "metadata": {},
   "source": [
    "## Note on variable domains and bounds\n",
    "\n",
    "In Pyomo, when defining a variable, you can specify the domain and use bounds to restrict the variable's values. For instance, the following two variable definitions are equivalent:"
   ]
  },
  {
   "cell_type": "code",
   "execution_count": null,
   "metadata": {},
   "outputs": [],
   "source": [
    "var1 = pyo.Var(name=\"var1\", domain=pyo.NonNegativeReals)\n",
    "var1 = pyo.Var(name=\"var1\", domain=pyo.Reals, bounds=(0, None))"
   ]
  },
  {
   "cell_type": "markdown",
   "metadata": {},
   "source": [
    "In both cases, the variable `var1` is constrained to take on non-negative real number values. The `domain` parameter directly sets the permissible range, while the `bounds` parameter provides a tuple representing the lower and upper bounds for the variable. Here, `(0, None)` signifies that `var1` has a lower bound of 0 and no upper bound, effectively making it a non-negative real number.\n",
    "\n",
    "When defining a variable `var2` that is restricted to floating-point numbers between 0 and 1, we have several options in Pyomo to set this constraint. Below are three equivalent ways to define such a variable:"
   ]
  },
  {
   "cell_type": "code",
   "execution_count": null,
   "metadata": {},
   "outputs": [],
   "source": [
    "var2 = pyo.Var(name=\"var2\", domain=pyo.Reals, bounds=(0, 1))\n",
    "var2 = pyo.Var(name=\"var2\", domain=pyo.NonNegativeReals, bounds=(0, 1))\n",
    "var2 = pyo.Var(name=\"var2\", domain=pyo.NonNegativeReals, bounds=(None, 1))"
   ]
  },
  {
   "cell_type": "markdown",
   "metadata": {},
   "source": [
    "The first option explicitly sets the domain to all real numbers and restricts `var2` to the range $\\left[0, 1\\right]$ using the `bounds` parameter.\n",
    "The second option sets the domain to non-negative real numbers, which already includes 0 as the lower bound, and then further restricts `var2` to the upper bound of 1.\n",
    "The last option assumes the non-negative domain (implicitly starting from 0) and specifies only the upper bound of 1."
   ]
  },
  {
   "cell_type": "markdown",
   "metadata": {},
   "source": [
    "## Choosing a solver\n",
    "\n",
    "Throughout this course, we will use GurobiPy as our solver for the optimization problems. To use GurobiPy, we need to add the following code at the start of each modeling notebook:"
   ]
  },
  {
   "cell_type": "code",
   "execution_count": null,
   "metadata": {},
   "outputs": [],
   "source": [
    "!pip install gurobipy pyomo"
   ]
  },
  {
   "cell_type": "markdown",
   "metadata": {},
   "source": [
    "We also save our license information to the `solver_options` dictionary to be passed to the `SolverFactory` object:"
   ]
  },
  {
   "cell_type": "code",
   "execution_count": null,
   "metadata": {},
   "outputs": [],
   "source": [
    "solver_options = {\n",
    "    \"WLSACCESSID\": \"...\",  # your WSL access id (string)\n",
    "    \"WLSSECRET\": \"...\",  # your WSL secret (string)\n",
    "    \"LICENSEID\": ...,  # your license id (integer)\n",
    "}"
   ]
  }
 ],
 "metadata": {
  "kernelspec": {
   "display_name": ".venv",
   "language": "python",
   "name": "python3"
  },
  "language_info": {
   "codemirror_mode": {
    "name": "ipython",
    "version": 3
   },
   "file_extension": ".py",
   "mimetype": "text/x-python",
   "name": "python",
   "nbconvert_exporter": "python",
   "pygments_lexer": "ipython3",
   "version": "3.11.6"
  }
 },
 "nbformat": 4,
 "nbformat_minor": 2
}
