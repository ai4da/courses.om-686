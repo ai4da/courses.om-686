{
 "cells": [
  {
   "cell_type": "markdown",
   "metadata": {},
   "source": [
    "# Model 2: The Production Mix Problem I\n",
    "\n",
    "$$\n",
    "\\begin{array}{rl}\n",
    "    \\max  & 1.6\\, x_1 + x_2 + 2\\, x_3 \\\\[5pt]\n",
    "    \\text{s.t.} & 80\\,x_1 + 70\\,x_2 + 30\\,x_3 \\leq 300,\\!000 \\\\\n",
    "    & 70\\,x_1 + 90\\,x_2 + 20\\,x_3 \\leq 250,\\!000 \\\\\n",
    "    &40\\,x_1 + 30\\,x_2 + 20\\,x_3 \\leq 180,\\!000 \\\\[5pt]\n",
    "    & x_1,x_2,x_3 \\geq 0 \n",
    "\\end{array}\n",
    "$$"
   ]
  },
  {
   "cell_type": "markdown",
   "metadata": {},
   "source": [
    "## The concrete Pyomo model\n",
    "\n",
    "In this section, we implement the above concrete model step by step."
   ]
  },
  {
   "cell_type": "markdown",
   "metadata": {},
   "source": [
    "### Step 1: Import required libraries"
   ]
  },
  {
   "cell_type": "code",
   "execution_count": null,
   "metadata": {},
   "outputs": [],
   "source": [
    "!pip install gurobipy pyomo"
   ]
  },
  {
   "cell_type": "code",
   "execution_count": null,
   "metadata": {},
   "outputs": [],
   "source": [
    "solver_options = {\n",
    "    \"WLSACCESSID\": \"...\",  # your WSL access id (string)\n",
    "    \"WLSSECRET\": \"...\",  # your WSL secret (string)\n",
    "    \"LICENSEID\": ...,  # your license id (integer)\n",
    "}"
   ]
  },
  {
   "cell_type": "code",
   "execution_count": null,
   "metadata": {},
   "outputs": [],
   "source": [
    "import pyomo.environ as pyo\n",
    "from pyomo.opt import SolverFactory"
   ]
  },
  {
   "cell_type": "markdown",
   "metadata": {},
   "source": [
    "### Step 2: Create the model object"
   ]
  },
  {
   "cell_type": "code",
   "execution_count": null,
   "metadata": {},
   "outputs": [],
   "source": [
    "mod = pyo.ConcreteModel(name=\"production_mix_1\")"
   ]
  },
  {
   "cell_type": "markdown",
   "metadata": {},
   "source": [
    "### Step 3: Define the decision variables and their domains"
   ]
  },
  {
   "cell_type": "code",
   "execution_count": null,
   "metadata": {},
   "outputs": [],
   "source": [
    "mod.x1 = pyo.Var(name=\"x1\", domain=...)\n",
    "mod.x2 = pyo.Var(name=\"x2\", domain=...)\n",
    "mod.x3 = pyo.Var(name=\"x3\", domain=...)"
   ]
  },
  {
   "cell_type": "markdown",
   "metadata": {},
   "source": [
    "### Step 4: Define the objective function"
   ]
  },
  {
   "cell_type": "code",
   "execution_count": null,
   "metadata": {},
   "outputs": [],
   "source": [
    "mod.obj = pyo.Objective(expr=1.6 * mod.x1 + mod.x2 + 2 * mod.x3, sense=...)"
   ]
  },
  {
   "cell_type": "markdown",
   "metadata": {},
   "source": [
    "### Step 5: Define the constraints"
   ]
  },
  {
   "cell_type": "code",
   "execution_count": null,
   "metadata": {},
   "outputs": [],
   "source": [
    "mod.con1 = pyo.Constraint(expr=80 * mod.x1 + 70 * mod.x2 + 30 * mod.x3 <= 300000, name=\"assembly\")\n",
    "mod.con2 = pyo.Constraint(expr=70 * mod.x1 + 90 * mod.x2 + 20 * mod.x3 <= 250000, name=\"refinement\")\n",
    "mod.con3 = pyo.Constraint(\n",
    "    expr=40 * mod.x1 + 30 * mod.x2 + 20 * mod.x3 <= 180000, name=\"quality_control\"\n",
    ")"
   ]
  },
  {
   "cell_type": "markdown",
   "metadata": {},
   "source": [
    "### Step 6: Create the Solver object and solve the model"
   ]
  },
  {
   "cell_type": "code",
   "execution_count": null,
   "metadata": {},
   "outputs": [],
   "source": [
    "opt = SolverFactory(\"gurobi\", solver_io=\"python\", manage_env=True, options=solver_options)\n",
    "result = opt.solve(mod)"
   ]
  },
  {
   "cell_type": "markdown",
   "metadata": {},
   "source": [
    "### Step 8: Display and interpret the results"
   ]
  },
  {
   "cell_type": "code",
   "execution_count": null,
   "metadata": {},
   "outputs": [],
   "source": [
    "print(\"Objective value =\", mod.obj())  # using the object itself\n",
    "print(\"x1 =             \", mod.x1())\n",
    "print(\"x2 =             \", mod.x2())\n",
    "print(\"x3 =             \", pyo.value(mod.x3))  # using the pyo.value() function"
   ]
  },
  {
   "cell_type": "markdown",
   "metadata": {},
   "source": [
    "Display the solution time:"
   ]
  },
  {
   "cell_type": "code",
   "execution_count": null,
   "metadata": {},
   "outputs": [],
   "source": [
    "print(\"solution time =\", result.solver.wallclock_time)  # for gurobi\n",
    "# print(\"solution time =\", result.solver.time)  # for glpk"
   ]
  },
  {
   "cell_type": "markdown",
   "metadata": {},
   "source": [
    "#### Find the slack value of each constraint:\n",
    "\n",
    "$$\n",
    "\\begin{array}{lcl}\n",
    "    80\\,x_1 + 70\\,x_2 + 30\\,x_3 \\leq 300,\\!000 & \\Rightarrow & 80\\,x_1 + 70\\,x_2 + 30\\,x_3 + s_1 = 300,\\!000 \\\\\n",
    "    70\\,x_1 + 90\\,x_2 + 20\\,x_3 \\leq 250,\\!000 & \\Rightarrow & 70\\,x_1 + 90\\,x_2 + 20\\,x_3 + s_2 = 250,\\!000 \\\\\n",
    "    40\\,x_1 + 30\\,x_2 + 20\\,x_3 \\leq 180,\\!000 & \\Rightarrow &40\\,x_1 + 30\\,x_2 + 20\\,x_3 + s_3 = 180,\\!000 \\\\\n",
    "\\end{array}\n",
    "$$\n",
    "\n",
    "> *Note*: In an optimization problem, slack and surplus variables are variables that are added to the inequality constraints to transform them into equality. Slack refers to the amount which is equal to or less than ($\\leq$) constraints, while surplus refers to the amount which is equal to or greater than ($\\geq$) constraints. Both values will be equal to 0 if a constraint is perfectly met as an equivalence. If a slack or surplus variable is positive at a particular candidate solution, the constraint is *non-binding* there, as the constraint *does not restrict* the possible changes from that point."
   ]
  },
  {
   "cell_type": "code",
   "execution_count": null,
   "metadata": {},
   "outputs": [],
   "source": [
    "# by using the slack() method:\n",
    "print(\"Slack value of\", mod.con1.name, \"=\", mod.con1.slack())\n",
    "print(\"Slack value of\", mod.con2.name, \"=\", mod.con2.slack())\n",
    "\n",
    "# by using the upper() and body() methods and performing calculations:\n",
    "print(\"Slack value of\", mod.con3.name, \"=\", mod.con3.upper() - mod.con3.body())"
   ]
  }
 ],
 "metadata": {
  "kernelspec": {
   "display_name": ".venv",
   "language": "python",
   "name": "python3"
  },
  "language_info": {
   "codemirror_mode": {
    "name": "ipython",
    "version": 3
   },
   "file_extension": ".py",
   "mimetype": "text/x-python",
   "name": "python",
   "nbconvert_exporter": "python",
   "pygments_lexer": "ipython3",
   "version": "3.11.6"
  }
 },
 "nbformat": 4,
 "nbformat_minor": 2
}
