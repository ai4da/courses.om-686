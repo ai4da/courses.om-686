{
 "cells": [
  {
   "cell_type": "markdown",
   "metadata": {},
   "source": [
    "# Model 3: The Production Mix Problem II\n",
    "\n",
    "$$\n",
    "\\begin{array}{rl}\n",
    "    \\max  & 5\\, x_s + 20\\, x_l \\\\[5pt]\n",
    "    \\text{s.t.} & x_s + 3\\, x_l  \\leq 200 \\\\\n",
    "    & 3\\, x_s + 2\\, x_l \\leq 160 \\\\[5pt]\n",
    "    & x_1,x_2,x_3 \\in \\{0, 1, 2, \\ldots\\} \n",
    "\\end{array}\n",
    "$$"
   ]
  },
  {
   "cell_type": "markdown",
   "metadata": {},
   "source": [
    "## The concrete Pyomo model"
   ]
  },
  {
   "cell_type": "markdown",
   "metadata": {},
   "source": [
    "### Import required libraries and create the model object"
   ]
  },
  {
   "cell_type": "code",
   "execution_count": null,
   "metadata": {},
   "outputs": [],
   "source": [
    "!pip install gurobipy pyomo\n",
    "\n",
    "solver_options = {\n",
    "    \"WLSACCESSID\": \"...\",  # your WSL access id (string)\n",
    "    \"WLSSECRET\": \"...\",  # your WSL secret (string)\n",
    "    \"LICENSEID\": ...,  # your license id (integer)\n",
    "}"
   ]
  },
  {
   "cell_type": "code",
   "execution_count": null,
   "metadata": {},
   "outputs": [],
   "source": [
    "import pyomo.environ as pyo\n",
    "from pyomo.opt import SolverFactory\n",
    "\n",
    "mod = pyo.ConcreteModel(name=\"production_mix_2\")"
   ]
  },
  {
   "cell_type": "markdown",
   "metadata": {},
   "source": [
    "### Define the components of the model"
   ]
  },
  {
   "cell_type": "code",
   "execution_count": null,
   "metadata": {},
   "outputs": [],
   "source": [
    "# decision variables:\n",
    "mod.x_s = pyo.Var(name=\"num_of_small_boards\", domain=pyo.NonNegativeIntegers)\n",
    "mod.x_l = pyo.Var(name=\"num_of_large_boards\", domain=pyo.NonNegativeIntegers)\n",
    "\n",
    "# objective function:\n",
    "mod.obj = pyo.Objective(expr=5 * mod.x_s + 20 * mod.x_l, sense=pyo.maximize)\n",
    "\n",
    "# constraints:\n",
    "mod.con_wood = pyo.Constraint(expr=mod.x_s + 3 * mod.x_l <= 200, name=\"wood_resource\")\n",
    "mod.con_time = pyo.Constraint(expr=3 * mod.x_s + 2 * mod.x_l <= 160, name=\"time_resource\")"
   ]
  },
  {
   "cell_type": "markdown",
   "metadata": {},
   "source": [
    "### Solve the model\n",
    "\n",
    "One of the options you can use is `tee=True` when calling the `solve()` function. This can help you see the progress of the solver, such as the value of the objective function, the number of iterations, the MIP gap, solution time, etc."
   ]
  },
  {
   "cell_type": "code",
   "execution_count": null,
   "metadata": {},
   "outputs": [],
   "source": [
    "opt = SolverFactory(\"gurobi\", solver_io=\"python\", manage_env=True, options=solver_options)\n",
    "result = opt.solve(mod, tee=True)"
   ]
  },
  {
   "cell_type": "markdown",
   "metadata": {},
   "source": [
    "### Display and interpret the results\n",
    "\n",
    "To access the different components of a Pyomo model, such as variables and constraints, we can use the `component_objects()` method. This method returns a generator object that allows us to loop over the specified component type. In the following code, we want to display the optimal value of the decision variables in the model as well as the consumed resources."
   ]
  },
  {
   "cell_type": "code",
   "execution_count": null,
   "metadata": {},
   "outputs": [],
   "source": [
    "print(\"Objective value =\", pyo.value(mod.obj))\n",
    "\n",
    "# retrieve the active variables in the model\n",
    "variables = mod.component_objects(pyo.Var, active=True)\n",
    "\n",
    "# iterate over variables\n",
    "for var in variables:\n",
    "    # print their name and final value\n",
    "    print(var.name, \"=\", pyo.value(var))\n",
    "\n",
    "# retrieve the active constraints\n",
    "constraints = mod.component_objects(pyo.Constraint, active=True)\n",
    "\n",
    "# iterate over constraints\n",
    "for con in constraints:\n",
    "    # print their left-hand-side value\n",
    "    print(\"consumed\", con.name, \"=\", pyo.value(con))\n",
    "    # pyo.value(con) is equivalent to con() and con.body()"
   ]
  }
 ],
 "metadata": {
  "kernelspec": {
   "display_name": ".venv",
   "language": "python",
   "name": "python3"
  },
  "language_info": {
   "codemirror_mode": {
    "name": "ipython",
    "version": 3
   },
   "file_extension": ".py",
   "mimetype": "text/x-python",
   "name": "python",
   "nbconvert_exporter": "python",
   "pygments_lexer": "ipython3",
   "version": "3.11.6"
  }
 },
 "nbformat": 4,
 "nbformat_minor": 2
}
