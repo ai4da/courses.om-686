{
 "cells": [
  {
   "cell_type": "markdown",
   "metadata": {},
   "source": [
    "# Model 4: The 0/1 Knapsack Problem\n",
    "\n",
    "Given a set of items, each with a weight and a value, determine which items to include in a collection so that the total weight is less than or equal to a given limit and the total value is as large as possible. The \"0/1\" binary qualifier denotes that each item must be entirely accepted or rejected, that is, you cannot subdivide an item.\n",
    "\n",
    "## Modeling components\n",
    "\n",
    "### Sets\n",
    "\n",
    "- $J$: Set of items indexed by $j$, $j \\in J$\n",
    "\n",
    "### Parameters\n",
    "\n",
    "- $w_j$: Weight of item $j$ for each $j \\in J$\n",
    "- $v_j$: Value of item $j$ for each $j \\in J$.\n",
    "- $W$: Maximum weight capacity of the knapsack.\n",
    "\n",
    "### Decision variables:\n",
    "$$x_j= \\begin{cases} 1, & \\text{if item $j$ is included in the knapsack,} \\\\ 0, & \\text{otherwise.} \\end{cases}$$\n",
    "\n",
    "## The integer programming formulation\n",
    "\n",
    "$$\n",
    "\\begin{array}{rl}\n",
    "    \\max  & \\sum_{j\\in J} v_j\\, x_j \\\\[5pt]\n",
    "    \\text{s.t.} & \\sum_{j\\in J} w_j\\, x_j \\leq W \\\\[5pt]\n",
    "    & x_j \\in \\{0, 1\\},\\ \\forall j\\in J\n",
    "\\end{array}\n",
    "$$"
   ]
  },
  {
   "cell_type": "markdown",
   "metadata": {},
   "source": [
    "## The knapsack caper: A story of greed, math, and risk\n",
    "\n",
    "Your customer is an international jewel thief, who has a plan to heist a jewelry store this week. The store has eight different types of jewels, each with a different value and weight. The table below displays the value and weight of each jewel type.\n",
    "\n",
    "$$\n",
    "\\begin{array}{|l|rr|}\n",
    "\\hline\n",
    "    \\text{Jewel Type} & \\text{Value (kCAD)} & \\text{Weight (g)} \\\\\n",
    "\\hline\n",
    "    \\text{Opal}       & 11          & 150        \\\\\n",
    "    \\text{Turquoise}  & 9           & 150        \\\\\n",
    "    \\text{Garnet}     & 13          & 60         \\\\\n",
    "    \\text{Jade}       & 10          & 100        \\\\\n",
    "    \\text{Onyx}       & 8           & 125        \\\\\n",
    "    \\text{Coral}      & 7           & 100        \\\\\n",
    "    \\text{Lapis}      & 3           & 50         \\\\\n",
    "    \\text{Agate}      & 5           & 80         \\\\\n",
    "\\hline\n",
    "\\end{array}\n",
    "$$\n",
    "\n",
    "The thief has a special bag that can stretch to fit any volume of jewels, but it can hold up to 600g safely. Exceeding this threshold could cause structural failure, rupturing the bag and spilling its contents. Due to security factors, the thief can only take one jewel of each type. However, with eight types available and a strict weight limit, tough decisions must be made. As the thief's most trusted advisor, he is relying on your analysis to determine the optimal set of jewels to steal, maximizing payoff while ensuring a clean getaway. Can you assemble the right package of plunder?"
   ]
  },
  {
   "cell_type": "markdown",
   "metadata": {},
   "source": [
    "## The concrete Pyomo model\n",
    "\n",
    "### Import required libraries and create the model object"
   ]
  },
  {
   "cell_type": "code",
   "execution_count": null,
   "metadata": {},
   "outputs": [],
   "source": [
    "!pip install gurobipy pyomo\n",
    "\n",
    "solver_options = {\n",
    "    \"WLSACCESSID\": \"...\",  # your WSL access id (string)\n",
    "    \"WLSSECRET\": \"...\",  # your WSL secret (string)\n",
    "    \"LICENSEID\": ...,  # your license id (integer)\n",
    "}"
   ]
  },
  {
   "cell_type": "code",
   "execution_count": null,
   "metadata": {},
   "outputs": [],
   "source": [
    "import pyomo.environ as pyo\n",
    "from pyomo.opt import SolverFactory\n",
    "\n",
    "mod = pyo.ConcreteModel(name=\"binary_knapsack\")"
   ]
  },
  {
   "cell_type": "markdown",
   "metadata": {},
   "source": [
    "### Define the components of the model"
   ]
  },
  {
   "cell_type": "markdown",
   "metadata": {},
   "source": [
    "#### Sets:"
   ]
  },
  {
   "cell_type": "code",
   "execution_count": null,
   "metadata": {},
   "outputs": [],
   "source": [
    "# set of jewel types:\n",
    "jewels = {\"Opal\", \"Turquoise\", \"Garnet\", \"Jade\", \"Onyx\", \"Coral\", \"Lapis\", \"Agate\"}"
   ]
  },
  {
   "cell_type": "markdown",
   "metadata": {},
   "source": [
    "#### Parameters:\n",
    "\n",
    "We use dictionaries to map each jewel to its value and weight."
   ]
  },
  {
   "cell_type": "code",
   "execution_count": null,
   "metadata": {},
   "outputs": [],
   "source": [
    "values = {\n",
    "    \"Opal\": 11,\n",
    "    \"Turquoise\": 9,\n",
    "    \"Garnet\": 13,\n",
    "    \"Jade\": 10,\n",
    "    \"Onyx\": 8,\n",
    "    \"Coral\": 7,\n",
    "    \"Lapis\": 3,\n",
    "    \"Agate\": 5,\n",
    "}\n",
    "\n",
    "weights = {\n",
    "    \"Opal\": 150,\n",
    "    \"Turquoise\": 150,\n",
    "    \"Garnet\": 60,\n",
    "    \"Jade\": 100,\n",
    "    \"Onyx\": 125,\n",
    "    \"Coral\": 100,\n",
    "    \"Lapis\": 50,\n",
    "    \"Agate\": 80,\n",
    "}\n",
    "\n",
    "W = 600  # the knapsack capacity"
   ]
  },
  {
   "cell_type": "markdown",
   "metadata": {},
   "source": [
    "#### The decision variables, the objective, and the constraint"
   ]
  },
  {
   "cell_type": "markdown",
   "metadata": {},
   "source": [
    "To create a list of variables in a Pyomo model, you can use the index set as the first argument in the `pyo.Var()` function. The index set specifies the set or list of indices that define the variables."
   ]
  },
  {
   "cell_type": "code",
   "execution_count": null,
   "metadata": {},
   "outputs": [],
   "source": [
    "# create a dictionary of decision variables, using index set J:\n",
    "mod.x = pyo.Var(jewels, domain=...)\n",
    "# Note that the jewels set is provided as the first argument"
   ]
  },
  {
   "cell_type": "code",
   "execution_count": null,
   "metadata": {},
   "outputs": [],
   "source": [
    "# objective function:\n",
    "expr = sum(values[j] * mod.x[j] for j in jewels)\n",
    "mod.obj = pyo.Objective(expr=expr, sense=pyo.maximize)\n",
    "\n",
    "# constraints:\n",
    "expr = sum(weights[j] * mod.x[j] for j in jewels)\n",
    "mod.capacity = pyo.Constraint(expr=expr <= W)"
   ]
  },
  {
   "cell_type": "markdown",
   "metadata": {},
   "source": [
    "Inspect your created objects:"
   ]
  },
  {
   "cell_type": "code",
   "execution_count": null,
   "metadata": {},
   "outputs": [],
   "source": [
    "# using the built-in pprint() method for pretty printing\n",
    "\n",
    "mod.x.pprint()\n",
    "mod.obj.pprint()\n",
    "mod.capacity.pprint()"
   ]
  },
  {
   "cell_type": "markdown",
   "metadata": {},
   "source": [
    "### Solve the model"
   ]
  },
  {
   "cell_type": "code",
   "execution_count": null,
   "metadata": {},
   "outputs": [],
   "source": [
    "opt = SolverFactory(\"gurobi\", solver_io=\"python\", manage_env=True, options=solver_options)\n",
    "result = opt.solve(mod, tee=False)"
   ]
  },
  {
   "cell_type": "markdown",
   "metadata": {},
   "source": [
    "### Display and interpret the results"
   ]
  },
  {
   "cell_type": "code",
   "execution_count": null,
   "metadata": {},
   "outputs": [],
   "source": [
    "# calculate the total value\n",
    "total_value = pyo.value(mod.obj) * 1000\n",
    "print(\"Objective value =\", total_value, \"CAD\")\n",
    "\n",
    "# calculate the total weight\n",
    "total_weight = sum(weights[j] * pyo.value(mod.x[j]) for j in jewels)\n",
    "# or simply, `total_weight = pyo.value(mod.capacity)`\n",
    "print(\"Total weight    =\", total_weight, \"g\")\n",
    "\n",
    "# Display the selected jewels\n",
    "print(\"Selected Jewels =\", end=\" \")\n",
    "# print the jewels with non-zero values in the variable dictionary\n",
    "for j in jewels:\n",
    "    if pyo.value(mod.x[j]) > 0.5:\n",
    "        print(j, end=\", \")"
   ]
  },
  {
   "cell_type": "markdown",
   "metadata": {},
   "source": [
    "### Exercise\n",
    "\n",
    "1. Consider a specific case: If you have the option to select either the \"Opal\" or the \"Garnet\" jewel, or neither of them, what would be the optimal set of jewels to steal?"
   ]
  },
  {
   "cell_type": "code",
   "execution_count": null,
   "metadata": {},
   "outputs": [],
   "source": [
    "# Create a set containing the items that cannot picked together:\n",
    "not_all_items = {...}\n",
    "\n",
    "# Create constraint expression\n",
    "expr = sum(mod.x[j] for j in ...)\n",
    "\n",
    "# Create constraint\n",
    "mod.con1 = pyo.Constraint(expr=...)"
   ]
  },
  {
   "cell_type": "code",
   "execution_count": null,
   "metadata": {},
   "outputs": [],
   "source": [
    "# Solve the model\n",
    "result = opt.solve(mod)\n",
    "\n",
    "# See the results\n",
    "total_value = pyo.value(mod.obj) * 1000\n",
    "print(\"Objective value =\", total_value, \"CAD\")\n",
    "\n",
    "print(\"Selected Jewels =\", end=\" \")\n",
    "for j in jewels:\n",
    "    if pyo.value(mod.x[j]) > 0.5:\n",
    "        print(j, end=\", \")"
   ]
  },
  {
   "cell_type": "markdown",
   "metadata": {},
   "source": [
    "2. What if the thief is required to steal at least five items that weigh 100g or more?"
   ]
  },
  {
   "cell_type": "code",
   "execution_count": null,
   "metadata": {},
   "outputs": [],
   "source": [
    "# Create a set containing the items that weigh 100g or more\n",
    "heavy_items = {j for j in jewels if ...}\n",
    "\n",
    "# Create constraint expression\n",
    "expr = sum(mod.x[j] for j in heavy_items)\n",
    "\n",
    "# Create constraint\n",
    "mod.con2 = pyo.Constraint(expr=...)"
   ]
  },
  {
   "cell_type": "code",
   "execution_count": null,
   "metadata": {},
   "outputs": [],
   "source": [
    "# Solve the model\n",
    "result = opt.solve(mod)\n",
    "\n",
    "# See the status of the solution\n",
    "print(\"solution status =\", result.solver.termination_condition)"
   ]
  },
  {
   "cell_type": "markdown",
   "metadata": {},
   "source": [
    "# Appendix: How to create tables in Jupyter\n",
    "\n",
    "## Method 1: Using Markdown syntax\n",
    "\n",
    "Markdown is a simple and lightweight markup language that allows you to format text using plain text syntax. You can use Markdown syntax to create tables in Jupyter notebooks by using pipes (`|`) and dashes (`-`) to separate the cells and rows. For example, you can write:\n",
    "\n",
    "```markdown\n",
    "| Jewel Type | Value (CAD) | Weight (g) |\n",
    "|------------|-------------|------------|\n",
    "| Opal       | 11          | 150        |\n",
    "| Turquoise  | 9           | 150        |\n",
    "| Garnet     | 13          | 60         |\n",
    "| Jade       | 10          | 100        |\n",
    "| Onyx       | 8           | 125        |\n",
    "| Coral      | 7           | 100        |\n",
    "| Lapis      | 3           | 50         |\n",
    "| Agate      | 5           | 80         |\n",
    "``````\n",
    "This will produce the following table:\n",
    "\n",
    "| Jewel Type | Value (CAD) | Weight (g) |\n",
    "|------------|-------------|------------|\n",
    "| Opal       | 11          | 150        |\n",
    "| Turquoise  | 9           | 150        |\n",
    "| Garnet     | 13          | 60         |\n",
    "| Jade       | 10          | 100        |\n",
    "| Onyx       | 8           | 125        |\n",
    "| Coral      | 7           | 100        |\n",
    "| Lapis      | 3           | 50         |\n",
    "| Agate      | 5           | 80         |\n",
    "\n",
    "Markdown syntax blends nicely in the text and is easy to read and write. However, it has some limitations, such as the inability to align the text in the cells, or to add borders or colors to the table.\n",
    "\n",
    "## Method 2: Using LaTeX syntax\n",
    "\n",
    "LaTeX is a powerful and widely used document preparation system that allows you to create professional-looking documents with complex formatting and typesetting. You can use LaTeX syntax to create mathematical equations and tables in Jupyter notebooks by using the array environment and specifying the column alignment and the vertical lines. For example, you can write:\n",
    "\n",
    "```latex\n",
    "$$\n",
    "\\begin{array}{|l|rr|}\n",
    "\\hline\n",
    "    \\text{Jewel Type} & \\text{Value (kCAD)} & \\text{Weight (g)} \\\\\n",
    "\\hline\n",
    "    \\text{Opal}       & 11                  & 150               \\\\\n",
    "    \\text{Turquoise}  & 9                   & 150               \\\\\n",
    "    \\text{Garnet}     & 13                  & 60                \\\\\n",
    "    \\text{Jade}       & 10                  & 100               \\\\\n",
    "    \\text{Onyx}       & 8                   & 125               \\\\\n",
    "    \\text{Coral}      & 7                   & 100               \\\\\n",
    "    \\text{Lapis}      & 3                   & 50                \\\\\n",
    "    \\text{Agate}      & 5                   & 80                \\\\\n",
    "\\hline\n",
    "\\end{array}\n",
    "$$\n",
    "```\n",
    "This will produce the following table:\n",
    "$$\n",
    "\\begin{array}{|l|rr|}\n",
    "\\hline\n",
    "    \\text{Jewel Type} & \\text{Value (kCAD)} & \\text{Weight (g)} \\\\\n",
    "\\hline\n",
    "    \\text{Opal}       & 11                  & 150               \\\\\n",
    "    \\text{Turquoise}  & 9                   & 150               \\\\\n",
    "    \\text{Garnet}     & 13                  & 60                \\\\\n",
    "    \\text{Jade}       & 10                  & 100               \\\\\n",
    "    \\text{Onyx}       & 8                   & 125               \\\\\n",
    "    \\text{Coral}      & 7                   & 100               \\\\\n",
    "    \\text{Lapis}      & 3                   & 50                \\\\\n",
    "    \\text{Agate}      & 5                   & 80                \\\\\n",
    "\\hline\n",
    "\\end{array}\n",
    "$$\n",
    "LaTeX syntax provides more control over text alignments and decoration, and allows you to customize the appearance of your table with various options. However, it is more complex and verbose than Markdown syntax, and requires some basic knowledge of LaTeX commands and syntax."
   ]
  }
 ],
 "metadata": {
  "kernelspec": {
   "display_name": ".venv",
   "language": "python",
   "name": "python3"
  },
  "language_info": {
   "codemirror_mode": {
    "name": "ipython",
    "version": 3
   },
   "file_extension": ".py",
   "mimetype": "text/x-python",
   "name": "python",
   "nbconvert_exporter": "python",
   "pygments_lexer": "ipython3",
   "version": "3.11.6"
  }
 },
 "nbformat": 4,
 "nbformat_minor": 2
}
