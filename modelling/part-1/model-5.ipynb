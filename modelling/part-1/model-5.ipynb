{
 "cells": [
  {
   "cell_type": "markdown",
   "metadata": {},
   "source": [
    "# Model 5: The Production-Inventory Problem\n",
    "\n",
    "In this notebook, we will explore a common problem in operations management: how to schedule the production plan of a product over a given time horizon. This problem involves balancing the trade-off between production costs and inventory costs, while satisfying the customer demands as well as production capacity and inventory constraints. We will use linear programming (LP) to formulate and solve this problem, and find the optimal production and inventory levels for each week.\n",
    "\n",
    "## Modeling components\n",
    "\n",
    "### Sets\n",
    "\n",
    "- $T$: Set of time periods (e.g., weeks) representing the planning horizon of our problem.\n",
    "\n",
    "### Parameters\n",
    "\n",
    "- $I_0$: The initial inventory, i.e., the amount of the product that is available at the beginning of the first week.\n",
    "- $h$: Unit holding cost. The unit holding cost is the cost of storing one unit of the product in the inventory for one week. It is assumed that the holding cost per unit is invariant from one time period to another.\n",
    "- $p_t$: Production capacity in week $t$, $t\\in T$. The production capacity is the maximum amount of the product that can be produced in a given week.\n",
    "- $c_t$: Unit production cost in week $t$, $t\\in T$. It indicates the cost of producing one unit of the product in a given week. \n",
    "- $d_t$: Demand of week $t$, $t\\in T$. It denotes the amount of the product that is required by the customers in a given week. \n",
    "\n",
    "### Decision variables\n",
    "\n",
    "- $x_t$: Amount produced in week $t\\in T$\n",
    "- $s_t$: Inventory level at the end of week $t\\in T$\n",
    "\n",
    "## The linear programming formulation\n",
    "\n",
    "$$\n",
    "\\begin{array}{rll}\n",
    "    \\min  & \\sum_{t\\in T} \\left(c_t\\, x_t + h\\, s_t \\right) \\\\[5pt]\n",
    "    \\text{s.t.} & I_0 + x_1 = s_1 + d_1 \\\\\n",
    "    & s_{t-1} + x_t = s_t + d_t, & t\\in T\\setminus\\{1\\} \\\\\n",
    "    & x_t\\leq p_t, & t\\in T \\\\[5pt]\n",
    "    & x_t, s_t \\geq 0, & t\\in T\n",
    "\\end{array}\n",
    "$$"
   ]
  },
  {
   "cell_type": "markdown",
   "metadata": {},
   "source": [
    "## A problem instance\n",
    "\n",
    "Suppose you are scheduling the weekly production plan of a product for 12 weeks. The plan depends on several parameters, such as the initial inventory, the unit holding cost, the demand, the unit production cost, and the production capacity for each week.\n",
    "The value of these parameters are provided in the `Data` directory.\n",
    "The first data file, `Model5_input_data_1.csv`, contains the values of the production cost, the production capacity, and the demand for each week. The file has four columns: `period`, `demand`, `production_cost`, and `production_capacity`.\n",
    "The second data file, `Model5_input_data_2.csv`, contains the values of the unit holding cost and the initial inventory. The file has two columns: `attribute` and `value`.\n",
    "\n",
    "Here, we will learn how to read data and store it in a data frame using the `pandas` library in python. First, mount your Google Drive to access the files:"
   ]
  },
  {
   "cell_type": "code",
   "execution_count": null,
   "metadata": {},
   "outputs": [],
   "source": [
    "from google.colab import drive\n",
    "\n",
    "drive.mount(\"/content/drive\")"
   ]
  },
  {
   "cell_type": "markdown",
   "metadata": {},
   "source": [
    "Next, we can read the data files from the `data` directory in the shared course folder. Copy the paths to `Model5_input_data_1.csv` and `Model5_input_data_2.csv` files. Next, read the data files as follows:"
   ]
  },
  {
   "cell_type": "code",
   "execution_count": null,
   "metadata": {},
   "outputs": [],
   "source": [
    "import pandas as pd\n",
    "\n",
    "# read the csv files into a `DataFrame` object\n",
    "data_periods = pd.read_csv(\n",
    "    \"/content/drive/.../Model5_input_data_1.csv\",  # path to your first input data\n",
    "    index_col=\"period\",  # use the `period` column as the index\n",
    ")\n",
    "\n",
    "data_constants = pd.read_csv(\n",
    "    \"/content/drive/.../Model5_input_data_2.csv\",  # path to your second input data\n",
    ")"
   ]
  },
  {
   "cell_type": "markdown",
   "metadata": {},
   "source": [
    "You can inspect the imported data as follows."
   ]
  },
  {
   "cell_type": "code",
   "execution_count": null,
   "metadata": {},
   "outputs": [],
   "source": [
    "data_periods"
   ]
  },
  {
   "cell_type": "code",
   "execution_count": null,
   "metadata": {},
   "outputs": [],
   "source": [
    "print(data_constants)"
   ]
  },
  {
   "cell_type": "markdown",
   "metadata": {},
   "source": [
    "### Define your sets and parameters"
   ]
  },
  {
   "cell_type": "code",
   "execution_count": null,
   "metadata": {},
   "outputs": [],
   "source": [
    "# set of time periods\n",
    "T = set(data_periods.index)\n",
    "print(T)"
   ]
  },
  {
   "cell_type": "code",
   "execution_count": null,
   "metadata": {},
   "outputs": [],
   "source": [
    "# create a dictionary to store our constants\n",
    "keys = data_constants[\"attribute\"]\n",
    "values = data_constants[\"value\"]\n",
    "key_values = zip(keys, values)\n",
    "constants = dict(key_values)\n",
    "\n",
    "print(constants)"
   ]
  },
  {
   "cell_type": "markdown",
   "metadata": {},
   "source": [
    "Define a function for easier data access:"
   ]
  },
  {
   "cell_type": "code",
   "execution_count": null,
   "metadata": {},
   "outputs": [],
   "source": [
    "def get_data(param: str, time_period: int = 0):\n",
    "    match param:\n",
    "        case \"I0\":\n",
    "            return constants[\"initial_inventory\"]\n",
    "        case \"h\":\n",
    "            return constants[\"holding_cost\"]\n",
    "        case \"c\":\n",
    "            return data_periods.loc[time_period, \"production_cost\"]\n",
    "        case \"p\":\n",
    "            return data_periods.loc[time_period, \"production_capacity\"]\n",
    "        case \"d\":\n",
    "            return data_periods.loc[time_period, \"demand\"]"
   ]
  },
  {
   "cell_type": "markdown",
   "metadata": {},
   "source": [
    "Test the function (optional):"
   ]
  },
  {
   "cell_type": "code",
   "execution_count": null,
   "metadata": {},
   "outputs": [],
   "source": [
    "# get the value of 'h'\n",
    "h_value = get_data(\"h\")  # no need to provide a time period\n",
    "print(h_value)\n",
    "\n",
    "# get the value of 'c' for the second period\n",
    "c_value = get_data(\"c\", 2)\n",
    "print(c_value)"
   ]
  },
  {
   "cell_type": "markdown",
   "metadata": {},
   "source": [
    "## The concrete Pyomo model\n",
    "\n",
    "### Import required libraries and create the model object"
   ]
  },
  {
   "cell_type": "code",
   "execution_count": null,
   "metadata": {},
   "outputs": [],
   "source": [
    "!pip install gurobipy pyomo\n",
    "\n",
    "solver_options = {\n",
    "    \"WLSACCESSID\": \"...\",  # your WSL access id (string)\n",
    "    \"WLSSECRET\": \"...\",  # your WSL secret (string)\n",
    "    \"LICENSEID\": ...,  # your license id (integer)\n",
    "}"
   ]
  },
  {
   "cell_type": "code",
   "execution_count": null,
   "metadata": {},
   "outputs": [],
   "source": [
    "import pyomo.environ as pyo\n",
    "from pyomo.opt import SolverFactory\n",
    "\n",
    "mod = pyo.ConcreteModel(name=\"production_inventory\")"
   ]
  },
  {
   "cell_type": "markdown",
   "metadata": {},
   "source": [
    "#### The decision variables, the objective, and the constraint"
   ]
  },
  {
   "cell_type": "code",
   "execution_count": null,
   "metadata": {},
   "outputs": [],
   "source": [
    "# create dictionaries of decision variables, using index set T:\n",
    "mod.x = pyo.Var(T, domain=pyo.NonNegativeReals)\n",
    "mod.s = pyo.Var(T, domain=pyo.NonNegativeReals)\n",
    "\n",
    "# objective function:\n",
    "expr = sum(get_data(\"c\", t) * mod.x[t] for t in T)  # production cost\n",
    "expr += sum(get_data(\"h\") * mod.s[t] for t in T)  # inventory holding cost\n",
    "mod.obj = pyo.Objective(expr=expr, sense=pyo.minimize)"
   ]
  },
  {
   "cell_type": "code",
   "execution_count": null,
   "metadata": {},
   "outputs": [],
   "source": [
    "# constraints:\n",
    "\n",
    "# balance constraints\n",
    "mod.balance = pyo.ConstraintList()  # create an empty list of constraints\n",
    "for t in T:\n",
    "    if t == 1:\n",
    "        # balance constraint for the first period\n",
    "        mod.balance.add(expr=get_data(\"I0\") + mod.x[t] == mod.s[t] + get_data(\"d\", t))\n",
    "    else:\n",
    "        mod.balance.add(expr=mod.s[t - 1] + mod.x[t] == mod.s[t] + get_data(\"d\", t))\n",
    "\n",
    "# capacity constraints\n",
    "mod.capacity = pyo.ConstraintList()\n",
    "for t in T:\n",
    "    mod.capacity.add(expr=mod.x[t] <= get_data(\"p\", t))"
   ]
  },
  {
   "cell_type": "markdown",
   "metadata": {},
   "source": [
    "Inspect your created objects (optional):"
   ]
  },
  {
   "cell_type": "code",
   "execution_count": null,
   "metadata": {},
   "outputs": [],
   "source": [
    "mod.obj.pprint()\n",
    "mod.balance.pprint()\n",
    "mod.capacity.pprint()"
   ]
  },
  {
   "cell_type": "markdown",
   "metadata": {},
   "source": [
    "### Solve the model"
   ]
  },
  {
   "cell_type": "code",
   "execution_count": null,
   "metadata": {},
   "outputs": [],
   "source": [
    "# remove the options argument if not using WLS\n",
    "opt = SolverFactory(\"gurobi\", solver_io=\"python\", manage_env=True, options=solver_options)\n",
    "result = opt.solve(mod, tee=False)"
   ]
  },
  {
   "cell_type": "markdown",
   "metadata": {},
   "source": [
    "### Display and interpret the results"
   ]
  },
  {
   "cell_type": "code",
   "execution_count": null,
   "metadata": {},
   "outputs": [],
   "source": [
    "# display calculation time\n",
    "print(\"Solution time = {:.2f}s\".format(result.solver.wallclock_time))\n",
    "\n",
    "# display the total cost\n",
    "print(\"Total cost = ${:,.2f}\".format(pyo.value(mod.obj)))\n",
    "\n",
    "# display demand, production, inventory, and unused capacity for each period\n",
    "for t in T:\n",
    "    print(\"Week\", t, end=\": \")\n",
    "    print(\"demand=\", get_data(\"d\", t), end=\", \")\n",
    "    print(\"production=\", pyo.value(mod.x[t]), end=\", \")\n",
    "    print(\"inventory=\", pyo.value(mod.s[t]), end=\", \")\n",
    "    print(\"unused capacity=\", get_data(\"p\", t) - pyo.value(mod.x[t]))"
   ]
  },
  {
   "cell_type": "markdown",
   "metadata": {},
   "source": [
    "#### Exercise 1: Save the results in a data frame"
   ]
  },
  {
   "cell_type": "code",
   "execution_count": null,
   "metadata": {},
   "outputs": [],
   "source": [
    "solution_data = {\n",
    "    \"period\": [],\n",
    "    \"demand\": [],\n",
    "    \"production\": [],\n",
    "    \"inventory\": [],\n",
    "    \"unused_capacity\": [],\n",
    "}\n",
    "\n",
    "for t in T:\n",
    "    solution_data[\"period\"].append(t)\n",
    "    solution_data[\"demand\"].append(get_data(\"d\", t))\n",
    "    solution_data[\"production\"].append(pyo.value(mod.x[t]))\n",
    "    solution_data[\"inventory\"].append(pyo.value(mod.s[t]))\n",
    "    solution_data[\"unused_capacity\"].append(get_data(\"p\", t) - pyo.value(mod.x[t]))\n",
    "\n",
    "solution_data = pd.DataFrame(solution_data)\n",
    "# set the index\n",
    "solution_data.set_index(\"period\", inplace=True)\n",
    "\n",
    "solution_data"
   ]
  },
  {
   "cell_type": "markdown",
   "metadata": {},
   "source": [
    "#### Exercise 2: Plot production and inventory levels"
   ]
  },
  {
   "cell_type": "code",
   "execution_count": null,
   "metadata": {},
   "outputs": [],
   "source": [
    "# Install the required libraries if not already installed:\n",
    "!pip install matplotlib seaborn"
   ]
  },
  {
   "cell_type": "code",
   "execution_count": null,
   "metadata": {},
   "outputs": [],
   "source": [
    "# Import plotting libraries\n",
    "from matplotlib import pyplot as plt\n",
    "import seaborn as sns\n",
    "\n",
    "# plot production and inventory values in the solution_data DataFrame\n",
    "# using the lineplot function from seaborn:\n",
    "sns.lineplot(data=solution_data[[\"production\", \"inventory\"]], markers=True)\n",
    "\n",
    "# set axis labels\n",
    "plt.xlabel(\"Week\")\n",
    "plt.ylabel(\"Level\")\n",
    "\n",
    "plt.show()"
   ]
  }
 ],
 "metadata": {
  "kernelspec": {
   "display_name": ".venv",
   "language": "python",
   "name": "python3"
  },
  "language_info": {
   "codemirror_mode": {
    "name": "ipython",
    "version": 3
   },
   "file_extension": ".py",
   "mimetype": "text/x-python",
   "name": "python",
   "nbconvert_exporter": "python",
   "pygments_lexer": "ipython3",
   "version": "3.11.6"
  }
 },
 "nbformat": 4,
 "nbformat_minor": 2
}
