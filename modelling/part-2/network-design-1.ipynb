{
 "cells": [
  {
   "cell_type": "markdown",
   "metadata": {},
   "source": [
    "# Supply Network Design I\n",
    "\n",
    "## Objective and prerequisites\n",
    "\n",
    "This notebook focuses on solving a supply network design problem (SNDP) using mathematical optimization. The objective is to find the minimum cost flow through a network that satisfies customer demand while minimizing shipping costs. The problem involves factories, depots, and customers, each with their own capacities and demands.\n",
    "\n",
    "The notebook provides a step-by-step guide on how to formulate the problem, define the parameters and decision variables, and set up the objective function and constraints. By following this document, you will learn how to apply mathematical optimization techniques to solve real-world supply network design problems.\n",
    "\n",
    "The model presented here is based on **Example 19** from the fifth edition of *Model Building in Mathematical Programming* by H. Paul Williams (pages 273-275 and 330-332)."
   ]
  },
  {
   "cell_type": "markdown",
   "metadata": {},
   "source": [
    "## Problem description\n",
    "\n",
    "In this problem, we have an SNDP with six end customers, each with a known demand for a product. Customer demand can be satisfied from a set of four depots, or directly from a set of two factories. Each node has a maximum capacity: the factories can produce a maximum amount of product, and the depots can support a maximum volume of product moving through them. There are known costs associated with transporting the product along the arcs, from a factory to a depot, from a depot to a customer, or directly from a factory to a customer."
   ]
  },
  {
   "cell_type": "code",
   "execution_count": null,
   "metadata": {},
   "outputs": [],
   "source": [
    "# Illustration of the network\n",
    "\n",
    "from IPython.display import Image\n",
    "\n",
    "Image(filename=\"figures/sndp-example.png\", width=500)"
   ]
  },
  {
   "cell_type": "markdown",
   "metadata": {},
   "source": [
    "\n",
    "Our supply network has two factories, in Liverpool and Brighton, that produce a product. Each has a maximum production capacity:\n",
    "\n",
    "| Factory | Supply (tons) |\n",
    "| --- | --- |\n",
    "| Liverpool | 150,000 |\n",
    "| Brighton |  200,000 |\n",
    "\n",
    "The product can be shipped from a factory to a set of four depots. Each depot has a maximum throughput. Depots don’t produce or consume the product; they simply pass the product on to customers.\n",
    "\n",
    "| Depot | Throughput (tons) |\n",
    "| --- | --- |\n",
    "| Newcastle | 70,000 |\n",
    "| Birmingham | 50,000 |\n",
    "| London | 100,000 |\n",
    "| Exeter | 40,000 |\n",
    "\n",
    "Our network has six customers, each with a given demand.\n",
    "\n",
    "| Customer | Demand (tons) |\n",
    "| --- | --- |\n",
    "| C1 | 50,000 |\n",
    "| C2 | 10,000 |\n",
    "| C3 | 40,000 |\n",
    "| C4 | 35,000 |\n",
    "| C5 | 60,000 |\n",
    "| C6 | 20,000 |\n",
    "\n",
    "Shipping costs are given in the following table (in dollars per ton): Columns are source nodes and rows are destination nodes, respectively. Thus, for example, it costs $1 per ton to ship the product from Liverpool to London. A `-` in the table indicates that that arc is not possible, so for example it is not possible to ship from the factory in Brighton to the depot in Newcastle.\n",
    "\n",
    "| To | Liverpool | Brighton | Newcastle | Birmingham | London | Exeter |\n",
    "| --- | --- | --- | --- | --- | --- | --- |\n",
    "| *Depots* |\n",
    "| Newcastle  | 0.5 |   - |\n",
    "| Birmingham | 0.5 | 0.3 |\n",
    "| London     | 1.0 | 0.5 |\n",
    "| Exeter     | 0.2 | 0.2 |\n",
    "| *Customers* |\n",
    "| C1 | 1.0 | 2.0 |   - | 1.0 |   - |   - |\n",
    "| C2 |   - |   - | 1.5 | 0.5 | 1.5 |   - |\n",
    "| C3 | 1.5 |   - | 0.5 | 0.5 | 2.0 | 0.2 |\n",
    "| C4 | 2.0 |   - | 1.5 | 1.0 |   - | 1.5 |\n",
    "| C5 |   - |   - |   - | 0.5 | 0.5 | 0.5 |\n",
    "| C6 | 1.0 |   - | 1.0 |   - | 1.5 | 1.5 |\n",
    "\n",
    "The question to be answered is how to satisfy the demands of the end customers while minimizing the total shipping cost."
   ]
  },
  {
   "cell_type": "markdown",
   "metadata": {},
   "source": [
    "## Problem formulation\n",
    "\n",
    "### Sets and indices\n",
    "\n",
    "- $f \\in \\text{Factories}=\\{\\text{Liverpool}, \\text{Brighton}\\}$\n",
    "\n",
    "- $d \\in \\text{Depots}=\\{\\text{Newcastle}, \\text{Birmingham}, \\text{London}, \\text{Exeter}\\}$\n",
    "\n",
    "- $c \\in \\text{Customers}=\\{\\text{C1}, \\text{C2}, \\text{C3}, \\text{C4}, \\text{C5}, \\text{C6}\\}$\n",
    "\n",
    "- $\\text{Cities} = \\text{Factories} \\cup \\text{Depots} \\cup \\text{Customers}$\n",
    "\n",
    "### Parameters\n",
    "\n",
    "- $\\text{cost}_{s,t} \\in \\mathbb{R}^+$: Cost of shipping one ton from source $s$ to destination $t$.\n",
    "\n",
    "- $\\text{supply}_f \\in \\mathbb{R}^+$: Maximum possible supply from factory $f$ (in tons).\n",
    "\n",
    "- $\\text{through}_d \\in \\mathbb{R}^+$: Maximum possible flow through depot $d$ (in tons).\n",
    "\n",
    "- $\\text{demand}_c \\in \\mathbb{R}^+$: Demand for goods at customer $c$ (in tons)."
   ]
  },
  {
   "cell_type": "markdown",
   "metadata": {},
   "source": [
    "### Decision variables\n",
    "\n",
    "$x_{s,t} \\in \\mathbb{R}^+$: Quantity of goods (in tons) that is shipped from source $s$ to destination $t$.\n",
    "\n",
    "\n",
    "### Objective function\n",
    "\n",
    "Minimize the total shipping cost:\n",
    "\n",
    "$$\n",
    "\\min \\ Z = \\sum_{(s,t) \\in \\text{Cities} \\times \\text{Cities}}{\\text{cost}_{st}\\, x_{st}}\n",
    "$$\n",
    "\n",
    "### Constraints\n",
    "\n",
    "- **Factory output**: Flow of goods from a factory must respect maximum capacity.\n",
    "\n",
    "$$\n",
    "\\sum_{t \\in \\text{Cities}}{x_{ft}} \\leq \\text{supply}_{f}, \\quad \\forall f \\in \\text{Factories}\n",
    "$$\n",
    "\n",
    "- **Customer demand**: Flow of goods must meet customer demand.\n",
    "\n",
    "$$\n",
    "\\sum_{s \\in \\text{Cities}}{x_{sc}} = \\text{demand}_{c}, \\quad \\forall c \\in \\text{Customers}\n",
    "$$\n",
    "\n",
    "- **Depot flow**: Flow into a depot equals flow out of the depot.\n",
    "\n",
    "$$\n",
    "\\sum_{s \\in \\text{Cities}}{x_{sd}} = \\sum_{t \\in \\text{Cities}}{x_{dt}},\\quad \\forall d \\in \\text{Depots}\n",
    "$$\n",
    "\n",
    "- **Depot capacity**: Flow into a depot must respect depot capacity.\n",
    "\n",
    "$$\n",
    "\\sum_{s \\in \\text{Cities}}{x_{sd}} \\leq \\text{through}_{d},\\quad \\forall d \\in \\text{Depots}\n",
    "$$\n",
    "\n"
   ]
  },
  {
   "cell_type": "markdown",
   "metadata": {},
   "source": [
    "## Pyomo model"
   ]
  },
  {
   "cell_type": "code",
   "execution_count": null,
   "metadata": {},
   "outputs": [],
   "source": [
    "!pip install gurobipy pyomo\n",
    "\n",
    "import pyomo.environ as pyo\n",
    "from pyomo.opt import SolverFactory\n",
    "\n",
    "# Include your WSL license information\n",
    "solver_options = {}"
   ]
  },
  {
   "cell_type": "markdown",
   "metadata": {},
   "source": [
    "Create objects to store input data:"
   ]
  },
  {
   "cell_type": "code",
   "execution_count": null,
   "metadata": {},
   "outputs": [],
   "source": [
    "supply = {\"Liverpool\": 150000, \"Brighton\": 200000}\n",
    "\n",
    "through = {\"Newcastle\": 70000, \"Birmingham\": 50000, \"London\": 100000, \"Exeter\": 40000}\n",
    "\n",
    "demand = {\"C1\": 50000, \"C2\": 10000, \"C3\": 40000, \"C4\": 35000, \"C5\": 60000, \"C6\": 20000}\n",
    "\n",
    "# Set of nodes\n",
    "Factories = set(supply.keys())\n",
    "Depots = set(through.keys())\n",
    "Customers = set(demand.keys())\n",
    "\n",
    "print(Factories, Depots, Customers, sep=\"\\n\")"
   ]
  },
  {
   "cell_type": "code",
   "execution_count": null,
   "metadata": {},
   "outputs": [],
   "source": [
    "cost = {\n",
    "    (\"Liverpool\", \"Newcastle\"): 0.5,\n",
    "    (\"Liverpool\", \"Birmingham\"): 0.5,\n",
    "    (\"Liverpool\", \"London\"): 1.0,\n",
    "    (\"Liverpool\", \"Exeter\"): 0.2,\n",
    "    (\"Liverpool\", \"C1\"): 1.0,\n",
    "    (\"Liverpool\", \"C3\"): 1.5,\n",
    "    (\"Liverpool\", \"C4\"): 2.0,\n",
    "    (\"Liverpool\", \"C6\"): 1.0,\n",
    "    (\"Brighton\", \"Birmingham\"): 0.3,\n",
    "    (\"Brighton\", \"London\"): 0.5,\n",
    "    (\"Brighton\", \"Exeter\"): 0.2,\n",
    "    (\"Brighton\", \"C1\"): 2.0,\n",
    "    (\"Newcastle\", \"C2\"): 1.5,\n",
    "    (\"Newcastle\", \"C3\"): 0.5,\n",
    "    (\"Newcastle\", \"C5\"): 1.5,\n",
    "    (\"Newcastle\", \"C6\"): 1.0,\n",
    "    (\"Birmingham\", \"C1\"): 1.0,\n",
    "    (\"Birmingham\", \"C2\"): 0.5,\n",
    "    (\"Birmingham\", \"C3\"): 0.5,\n",
    "    (\"Birmingham\", \"C4\"): 1.0,\n",
    "    (\"Birmingham\", \"C5\"): 0.5,\n",
    "    (\"London\", \"C2\"): 1.5,\n",
    "    (\"London\", \"C3\"): 2.0,\n",
    "    (\"London\", \"C5\"): 0.5,\n",
    "    (\"London\", \"C6\"): 1.5,\n",
    "    (\"Exeter\", \"C3\"): 0.2,\n",
    "    (\"Exeter\", \"C4\"): 1.5,\n",
    "    (\"Exeter\", \"C5\"): 0.5,\n",
    "    (\"Exeter\", \"C6\"): 1.5,\n",
    "}\n",
    "\n",
    "A = set(cost.keys())  # set of arcs"
   ]
  },
  {
   "cell_type": "code",
   "execution_count": null,
   "metadata": {},
   "outputs": [],
   "source": [
    "# Create the model\n",
    "mod = pyo.ConcreteModel(name=\"SNDP\")\n",
    "\n",
    "# Add the decision variables\n",
    "mod.x = pyo.Var(A, domain=pyo.NonNegativeReals)\n",
    "\n",
    "# Define the objective function\n",
    "mod.obj = pyo.Objective(expr=sum(cost[arc] * mod.x[arc] for arc in A), sense=pyo.minimize)"
   ]
  },
  {
   "cell_type": "code",
   "execution_count": null,
   "metadata": {},
   "outputs": [],
   "source": [
    "# Add the supply constraints\n",
    "mod.supply = pyo.ConstraintList()\n",
    "\n",
    "for f in Factories:\n",
    "    expr = sum(mod.x[i, j] for (i, j) in A if i == f)\n",
    "    mod.supply.add(expr <= supply[f])\n",
    "\n",
    "# Add the demand constraints\n",
    "mod.demand = pyo.ConstraintList()\n",
    "\n",
    "for c in Customers:\n",
    "    expr = sum(mod.x[i, j] for (i, j) in A if j == c)\n",
    "    mod.demand.add(expr == demand[c])\n",
    "\n",
    "# Add the depot capacity constraints\n",
    "mod.through = pyo.ConstraintList()\n",
    "\n",
    "for d in Depots:\n",
    "    expr = sum(mod.x[i, j] for (i, j) in A if i == d)\n",
    "    mod.through.add(expr <= through[d])\n",
    "\n",
    "# Add the flow balance constraints\n",
    "mod.flow = pyo.ConstraintList()\n",
    "\n",
    "for d in Depots:\n",
    "    expr1 = sum(mod.x[i, j] for (i, j) in A if i == d)\n",
    "    expr2 = sum(mod.x[i, j] for (i, j) in A if j == d)\n",
    "    mod.flow.add(expr1 == expr2)"
   ]
  },
  {
   "cell_type": "code",
   "execution_count": null,
   "metadata": {},
   "outputs": [],
   "source": [
    "# Call the solve and solve the model\n",
    "opt = SolverFactory(\"gurobi\", solver_io=\"python\", manage_env=True, solver_options=solver_options)\n",
    "results = opt.solve(mod, tee=True)"
   ]
  },
  {
   "cell_type": "markdown",
   "metadata": {},
   "source": [
    "## Solution analysis\n",
    "\n",
    "Product demand from all of our customers can be satisfied for a total cost of"
   ]
  },
  {
   "cell_type": "code",
   "execution_count": null,
   "metadata": {},
   "outputs": [],
   "source": [
    "print(f\"${pyo.value(mod.obj):,.2f}\")"
   ]
  },
  {
   "cell_type": "markdown",
   "metadata": {},
   "source": [
    "The optimal plan is as follows:"
   ]
  },
  {
   "cell_type": "code",
   "execution_count": null,
   "metadata": {},
   "outputs": [],
   "source": [
    "import pandas as pd\n",
    "\n",
    "product_flow = {\"From\": [], \"To\": [], \"Flow\": [], \"Cost\": []}\n",
    "\n",
    "for arc in A:\n",
    "    if pyo.value(mod.x[arc]) > 1e-6:\n",
    "        product_flow[\"From\"].append(arc[0])\n",
    "        product_flow[\"To\"].append(arc[1])\n",
    "        product_flow[\"Flow\"].append(pyo.value(mod.x[arc]))\n",
    "        product_flow[\"Cost\"].append(cost[arc] * pyo.value(mod.x[arc]))\n",
    "\n",
    "solution = pd.DataFrame(product_flow)\n",
    "solution"
   ]
  },
  {
   "cell_type": "code",
   "execution_count": null,
   "metadata": {},
   "outputs": [],
   "source": [
    "# Optional: You can save the solution dataframe to a csv file\n",
    "solution.to_csv(\"sndp-sol.csv\")"
   ]
  },
  {
   "cell_type": "markdown",
   "metadata": {},
   "source": [
    "### Exercise\n",
    "\n",
    "* Which depot experienced the highest throughput?"
   ]
  },
  {
   "cell_type": "code",
   "execution_count": null,
   "metadata": {},
   "outputs": [],
   "source": [
    "# Filter destinations to the depots\n",
    "solution_d = solution[solution[\"To\"].isin(Depots)]\n",
    "\n",
    "# calculate the total shipments to each depot\n",
    "solution_d = solution_d.groupby(\"To\").sum()\n",
    "\n",
    "solution_d"
   ]
  },
  {
   "cell_type": "code",
   "execution_count": null,
   "metadata": {},
   "outputs": [],
   "source": [
    "# Find the depot with the highest flow\n",
    "\n",
    "# 1. Order the depots by flow in descending order\n",
    "solution_d = solution_d.sort_values(\"Flow\", ascending=False)\n",
    "\n",
    "# 2. Get the name of the depot\n",
    "depot = solution_d.index[0]\n",
    "\n",
    "print(f\"The depot with the highest flow is: {depot}\")"
   ]
  },
  {
   "cell_type": "markdown",
   "metadata": {},
   "source": [
    "\n",
    "\n",
    "* How much product is produced in each factory? Show the results in a bar chart."
   ]
  },
  {
   "cell_type": "code",
   "execution_count": null,
   "metadata": {},
   "outputs": [],
   "source": [
    "import seaborn as sns\n",
    "import matplotlib.pyplot as plt\n",
    "\n",
    "# Filter the origins to the factories\n",
    "solution_f = solution[solution[\"From\"].isin(Factories)]\n",
    "\n",
    "# Create a bar chart using seaborn\n",
    "sns.barplot(data=solution_f, x=\"From\", y=\"Flow\", estimator=\"sum\", errorbar=None)\n",
    "\n",
    "# Add labels\n",
    "plt.title(\"Total Flow Out of Each Factory\")\n",
    "plt.xlabel(\"Factory\")\n",
    "plt.ylabel(\"Flow\")\n",
    "\n",
    "# Optional: You can save the plot to an image file\n",
    "plt.savefig(\"sndp-factories.png\")"
   ]
  }
 ],
 "metadata": {
  "kernelspec": {
   "display_name": ".venv",
   "language": "python",
   "name": "python3"
  },
  "language_info": {
   "codemirror_mode": {
    "name": "ipython",
    "version": 3
   },
   "file_extension": ".py",
   "mimetype": "text/x-python",
   "name": "python",
   "nbconvert_exporter": "python",
   "pygments_lexer": "ipython3",
   "version": "3.11.6"
  }
 },
 "nbformat": 4,
 "nbformat_minor": 2
}
