{
 "cells": [
  {
   "cell_type": "markdown",
   "metadata": {},
   "source": [
    "# Shortest Path Problem\n",
    "\n",
    "The shortest path problem (SPP) is a fundamental problem in graph theory and network analysis. It involves finding the most efficient way to traverse a network from a given origin to a destination, minimizing the total cost or distance traveled."
   ]
  },
  {
   "cell_type": "code",
   "execution_count": null,
   "metadata": {},
   "outputs": [],
   "source": [
    "from IPython.display import Image\n",
    "\n",
    "Image(filename=\"figures/spp.jpg\", width=300)"
   ]
  },
  {
   "cell_type": "markdown",
   "metadata": {},
   "source": [
    "In a bustling city, a determined traveler stands at point 'O'—their current location. Their destination, point 'D', lies somewhere else in the urban maze. The city streets intersect at nodes labeled 'a' to 'f'. Each connection between nodes has a specific cost—a distance to traverse or a time to spend. The traveler meticulously recorded these costs, revealing the intricate web of paths.\n",
    "\n",
    "Armed with this map, our adventurer embarks on a quest. Their goal? To reach point 'D' while minimizing the total distance traveled. They analyze the arc costs, weigh their options, and navigate the network with precision. Can you help them find the shortest path to their destination?"
   ]
  },
  {
   "cell_type": "markdown",
   "metadata": {},
   "source": [
    "## Mathematical model\n",
    "\n",
    "### Sets and parameters\n",
    "\n",
    "- $O$ and $D$ are the origin and destination nodes, respectively\n",
    "- $N$ is the set of all nodes in the network\n",
    "- $A$ is the set of all arcs in the network\n",
    "- $c_{i,j}$ is the cost (distance, time, etc.) associated with traveling from node $i$ to node $j$\n",
    "\n",
    "### Decision variables\n",
    "\n",
    "For each arc $(i, j) \\in A$ in the network, we define a decision variable $x_{i,j}$ as:\n",
    "$$\n",
    "x_{ij} = \\begin{cases}\n",
    "1 & \\text{if arc $(i, j)$ is traversable} \\\\\n",
    "0 & \\text{otherwise}\\\\\n",
    "\\end{cases}\n",
    "$$\n",
    "\n",
    "### Objective function\n",
    "\n",
    "Our goal is to minimize the total distance traveled. Therefore, the objective function is:\n",
    "$$\n",
    "\\min \\ \\sum_{(i,j) \\in A} c_{ij}\\, x_{ij},\n",
    "$$\n",
    "\n",
    "### Constraints\n",
    "\n",
    "Flow conservation constraints ensure that the traveler enters and exits each node exactly once (except for the start and destination nodes):\n",
    "$$\n",
    "\\begin{align*}\n",
    "    & \\sum_{j: (i, j)\\in A} x_{ij} = 1,\\quad && i=O\\\\\n",
    "    & \\sum_{i: (i, j)\\in A} x_{ij} = 1,\\quad && j=D\\\\\n",
    "    & \\sum_{j: (i, j)\\in A} x_{ij} = \\sum_{j: (j, i)\\in A} x_{ji},\\quad && i\\in N\\setminus\\{O, D\\}\n",
    "\\end{align*}\n",
    "$$"
   ]
  },
  {
   "cell_type": "markdown",
   "metadata": {},
   "source": [
    "## A problem instance"
   ]
  },
  {
   "cell_type": "code",
   "execution_count": null,
   "metadata": {},
   "outputs": [],
   "source": [
    "from IPython.display import Image\n",
    "\n",
    "Image(filename=\"figures/spp-example.png\", width=350)"
   ]
  },
  {
   "cell_type": "code",
   "execution_count": null,
   "metadata": {},
   "outputs": [],
   "source": [
    "# Origin and destination nodes\n",
    "O, D = \"O\", \"D\"\n",
    "\n",
    "# Set of intermediate nodes\n",
    "Intermediates = {\"a\", \"b\", \"c\", \"d\", \"e\", \"f\"}\n",
    "\n",
    "# Set of all nodes\n",
    "N = {O, D} | Intermediates"
   ]
  },
  {
   "cell_type": "code",
   "execution_count": null,
   "metadata": {},
   "outputs": [],
   "source": [
    "# Map arcs to their cost\n",
    "arc_cost = dict(\n",
    "    {\n",
    "        (\"O\", \"a\"): 6,\n",
    "        (\"O\", \"b\"): 2,\n",
    "        (\"O\", \"c\"): 2,\n",
    "        (\"a\", \"d\"): 5,\n",
    "        (\"a\", \"e\"): 4,\n",
    "        (\"b\", \"e\"): 4,\n",
    "        (\"c\", \"f\"): 1,\n",
    "        (\"d\", \"D\"): 1,\n",
    "        (\"f\", \"e\"): 2,\n",
    "        (\"e\", \"D\"): 3,\n",
    "        (\"f\", \"D\"): 6,\n",
    "    }\n",
    ")\n",
    "\n",
    "# Set of arcs\n",
    "A = set(arc_cost.keys())\n",
    "print(A)"
   ]
  },
  {
   "cell_type": "markdown",
   "metadata": {},
   "source": [
    "## The concrete Pyomo model"
   ]
  },
  {
   "cell_type": "code",
   "execution_count": null,
   "metadata": {},
   "outputs": [],
   "source": [
    "!pip install gurobipy pyomo\n",
    "\n",
    "import pyomo.environ as pyo\n",
    "from pyomo.opt import SolverFactory\n",
    "\n",
    "# Include your WSL license information\n",
    "solver_options = {}"
   ]
  },
  {
   "cell_type": "code",
   "execution_count": null,
   "metadata": {},
   "outputs": [],
   "source": [
    "# Create the model\n",
    "mod = pyo.ConcreteModel(name=\"SPP\")\n",
    "\n",
    "# Decision variables\n",
    "mod.x = pyo.Var(A, domain=pyo.Binary, name=\"arc\")\n",
    "\n",
    "# Objective function\n",
    "mod.obj = pyo.Objective(\n",
    "    expr=sum(arc_cost[arc] * mod.x[arc] for arc in A),\n",
    "    sense=pyo.minimize,\n",
    ")\n",
    "\n",
    "# Flow conservation constraints:\n",
    "mod.balance = pyo.ConstraintList()\n",
    "for i in N:\n",
    "    if i == O:\n",
    "        expr = sum(mod.x[arc] for arc in A if arc[0] == i)\n",
    "        mod.balance.add(expr == 1)\n",
    "    elif i == D:\n",
    "        expr = sum(mod.x[arc] for arc in A if arc[1] == i)\n",
    "        mod.balance.add(expr == 1)\n",
    "    else:\n",
    "        expr1 = sum(mod.x[arc] for arc in A if arc[0] == i)\n",
    "        expr2 = sum(mod.x[arc] for arc in A if arc[1] == i)\n",
    "        mod.balance.add(expr1 == expr2)"
   ]
  },
  {
   "cell_type": "code",
   "execution_count": null,
   "metadata": {},
   "outputs": [],
   "source": [
    "# Call the solve and solve the model\n",
    "opt = SolverFactory(\"gurobi\", solver_io=\"python\", manage_env=True, solver_options=solver_options)\n",
    "results = opt.solve(mod, tee=True)"
   ]
  },
  {
   "cell_type": "code",
   "execution_count": null,
   "metadata": {},
   "outputs": [],
   "source": [
    "# Print the selected arcs\n",
    "for arc in A:\n",
    "    if pyo.value(mod.x[arc]) > 0.5:\n",
    "        print(arc)\n",
    "\n",
    "# Print the total cost\n",
    "print(\"Total cost = \", pyo.value(mod.obj))"
   ]
  },
  {
   "cell_type": "markdown",
   "metadata": {},
   "source": [
    "### Exercise\n",
    "Print the path from the origin node to the destination node. "
   ]
  },
  {
   "cell_type": "code",
   "execution_count": null,
   "metadata": {},
   "outputs": [],
   "source": [
    "path = [O]\n",
    "while path[-1] != D:\n",
    "    for arc in A:\n",
    "        if arc[0] == path[-1] and pyo.value(mod.x[arc]) > 0.5:\n",
    "            path.append(arc[1])\n",
    "            break\n",
    "\n",
    "print(path)"
   ]
  }
 ],
 "metadata": {
  "kernelspec": {
   "display_name": ".venv",
   "language": "python",
   "name": "python3"
  },
  "language_info": {
   "codemirror_mode": {
    "name": "ipython",
    "version": 3
   },
   "file_extension": ".py",
   "mimetype": "text/x-python",
   "name": "python",
   "nbconvert_exporter": "python",
   "pygments_lexer": "ipython3",
   "version": "3.11.6"
  }
 },
 "nbformat": 4,
 "nbformat_minor": 2
}
