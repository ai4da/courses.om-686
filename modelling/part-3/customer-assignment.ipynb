{
 "cells": [
  {
   "cell_type": "markdown",
   "metadata": {},
   "source": [
    "# Customer Assignment Problem\n",
    "\n",
    "Customer assignment is a type of facility location problem that deals with finding the best locations for one or more facilities to serve a given set of customers. The objective is usually to minimize the total distance or cost of traveling from the facilities to the customers, while satisfying some constraints such as capacity, budget, or demand.\n",
    "\n",
    "Customer assignment problems are relevant for many industries and sectors that need to plan their operations strategically. For example:\n",
    "\n",
    "- Producers of goods need to design their supply chains, which involve choosing the locations and capacities of factories, distribution centers, warehouses, and retail stores.\n",
    "- Healthcare providers need to optimize their population coverage, which involves deciding where to build hospitals, clinics, or other health facilities.\n",
    "\n",
    "These are long-term decisions that require careful analysis and evaluation, as they involve high costs and have a significant impact on customer satisfaction and operational efficiency. One of the key factors to consider in these problems is the location of the customers, as it affects the distance or cost of traveling from the facilities to the customers.\n",
    "\n",
    "In this tutorial, we will use Pyomo to solve a customer assignment problem. We will model the problem as a mixed-integer programming (MIP) problem, and use an example from the [Gurobi GitHub repository](https://github.com/Gurobi/modeling-examples/). We will also investigate the application of the *k-means algorithm* to pre-process the customer location data."
   ]
  },
  {
   "cell_type": "markdown",
   "metadata": {},
   "source": [
    "## Problem description\n",
    "\n",
    "We are dealing with a customer assignment problem, which aims to find the best locations for one or more facilities from a set of possible sites, so that the total distance or cost of traveling from the facilities to the customers is minimized. If the facilities have no capacity limit, we can assume that each customer is served by the nearest facility.\n",
    "\n",
    "However, if we have a large number of customers, it may be impractical or inefficient to consider each customer's location individually. In that case, we can group the customers into clusters based on their proximity, and use the cluster centers as representative locations for the customers. This simplifies the problem, but also introduces an assumption that all the customers in a cluster are served by the same facility. To find the optimal clusters, we can use the *k-means algorithm*, which partitions $n$ objects into $k$ non-overlapping clusters that minimize the within-cluster variation.\n",
    "\n",
    "## Mathematical formulation\n",
    "\n",
    "### Sets and parameters\n",
    "\n",
    "Let us define the following sets and parameters for our problem:\n",
    "\n",
    "- $I$: Set of customer clusters.\n",
    "- $J$: Set of potential facility locations.\n",
    "- $w_i$: Number of customers in cluster $i \\in I$.\n",
    "- $d_{j,i}$ : Distance from facility location $j \\in J$ to customer cluster $i \\in I$.\n",
    "- $\\tau$: Maximum distance for a cluster-facility pairing to be considered.\n",
    "- $m$: Maximum number of facilities to be opened.\n",
    "- $P$: Set of allowed pairings. A pairing is allowed if the distance between the cluster and the location is less than or equal to the given threshold. That is, $P=\\{(i,j)\\in I\\times J \\,|\\, d_{ij} \\leq \\tau\\}$.\n",
    "\n",
    "### Decision variables\n",
    "\n",
    "We use the following variables to represent our decisions:\n",
    "\n",
    "- $y_j$: Binary variable indicating whether facility location $j \\in J$ is selected.\n",
    "- $x_{j,i}$: Binary variable indicating whether cluster $i \\in I$ is assigned to facility location $j \\in J$."
   ]
  },
  {
   "cell_type": "markdown",
   "metadata": {},
   "source": [
    "### Objective function\n",
    "\n",
    "Our goal is to minimize the total distance from the customer clusters to their assigned facilities. This distance is weighted by the number of customers in each cluster, and multiplied by the binary variable that indicates whether the cluster is assigned to the facility or not. The objective function is:\n",
    "\n",
    "$$\n",
    "\\min \\ Z = \\sum_{i \\in I} \\sum_{j \\in J} w_i \\, d_{ji} \\, x_{ji}\n",
    "$$\n",
    "\n",
    "### Constraints\n",
    "\n",
    "We need to satisfy the following constraints for our problem:\n",
    "\n",
    "- Facility limit. We cannot open more facilities than the maximum limit:\n",
    "\n",
    "$$\n",
    "\\sum_{j \\in J} y_j \\leq m\n",
    "$$\n",
    "\n",
    "- Open to assign. We can only assign a customer cluster to a facility location only if we have opened a facility there:\n",
    "  \n",
    "$$\n",
    "x_{ji} \\leq y_j,\\quad i \\in I,\\ j \\in J\n",
    "$$\n",
    "\n",
    "- Closest store. Each customer cluster must be assigned to exactly one facility location. We cannot split a cluster among multiple facilities, or leave a cluster unassigned.\n",
    "\n",
    "$$\n",
    "\\sum_{j\\in J} x_{ji} = 1,\\quad i \\in I\n",
    "$$"
   ]
  },
  {
   "cell_type": "markdown",
   "metadata": {},
   "source": [
    "## Problem instance generation\n",
    "\n",
    "In this example, we generate some random data for the customer locations and the facility locations. We assume that the customers are clustered around a few population centers, which are randomly chosen in a two-dimensional space. We use Gaussian distributions to simulate the variation of the customer locations around each center. The facility locations are also randomly chosen in the same space, but with a uniform distribution."
   ]
  },
  {
   "cell_type": "code",
   "execution_count": null,
   "metadata": {},
   "outputs": [],
   "source": [
    "!pip install numpy"
   ]
  },
  {
   "cell_type": "code",
   "execution_count": null,
   "metadata": {},
   "outputs": [],
   "source": [
    "import numpy as np\n",
    "\n",
    "seed = 2020  # seed for random number generator\n",
    "num_customers = 50_000  # total number of customers\n",
    "num_candidates = 20  # total number of facility locations\n",
    "max_facilities = 8  # maximum number of facilities to be opened\n",
    "num_clusters = 50  # number of customer clusters to be used in the model\n",
    "num_gaussians = 10  # number of population centers for the customers\n",
    "threshold = 0.99  # maximum distance for a cluster-facility pairing to be considered\n",
    "\n",
    "np.random.seed(seed)  # set seed for reproducibility\n",
    "\n",
    "# generate the number of customers for each population center\n",
    "customers_per_gaussian = np.random.multinomial(num_customers, [1 / num_gaussians] * num_gaussians)\n",
    "print(customers_per_gaussian)"
   ]
  },
  {
   "cell_type": "code",
   "execution_count": null,
   "metadata": {},
   "outputs": [],
   "source": [
    "centers = np.random.uniform(-0.5, 0.5, size=(num_gaussians, 2))\n",
    "customer_locs = np.zeros(shape=(num_customers, 2))\n",
    "\n",
    "last_customer = 0\n",
    "for n in range(num_gaussians):\n",
    "    # create random locations around centers[n] for each customer\n",
    "    customer_locs[last_customer : last_customer + customers_per_gaussian[n]] = np.random.normal(\n",
    "        centers[n], 0.1, size=(customers_per_gaussian[n], 2)\n",
    "    )\n",
    "\n",
    "    last_customer += customers_per_gaussian[n]"
   ]
  },
  {
   "cell_type": "code",
   "execution_count": null,
   "metadata": {},
   "outputs": [],
   "source": [
    "# visualize the customer locations\n",
    "import matplotlib.pyplot as plt\n",
    "\n",
    "# Plot the customer locations\n",
    "customers_x = customer_locs[:, 0]\n",
    "customers_y = customer_locs[:, 1]\n",
    "\n",
    "plt.figure(figsize=(8, 8))\n",
    "plt.scatter(customers_x, customers_y, c=\"g\", alpha=0.4, s=0.5)\n",
    "plt.xlabel(\"X Coordinate\")\n",
    "plt.ylabel(\"Y Coordinate\")\n",
    "plt.title(\"Customer Locations\")\n",
    "plt.show()"
   ]
  },
  {
   "cell_type": "code",
   "execution_count": null,
   "metadata": {},
   "outputs": [],
   "source": [
    "# generate the facility locations using a uniform distribution in [-0.5, 0.5]\n",
    "facility_locs = np.random.uniform(low=-0.5, high=0.5, size=(num_candidates, 2))\n",
    "\n",
    "# visualize the facility locations\n",
    "facilities_x = facility_locs[:, 0]\n",
    "facilities_y = facility_locs[:, 1]\n",
    "\n",
    "plt.figure(figsize=(8, 8))\n",
    "plt.scatter(customers_x, customers_y, c=\"g\", alpha=0.4, s=0.5, label=\"Customer\")\n",
    "plt.scatter(facilities_x, facilities_y, c=\"r\", marker=\"s\", alpha=0.8, s=20, label=\"Facility\")\n",
    "plt.xlabel(\"X Coordinate\")\n",
    "plt.ylabel(\"Y Coordinate\")\n",
    "plt.title(\"All Locations\")\n",
    "plt.legend()\n",
    "plt.show()"
   ]
  },
  {
   "cell_type": "markdown",
   "metadata": {},
   "source": [
    "### Clustering\n",
    "\n",
    "To reduce the complexity of the optimization model, we group the customers into clusters based on their locations, and assign each cluster to a facility. We use the *k-means algorithm* to find the optimal clusters, which minimize the within-cluster variation. We use the `scikit-learn` package to implement the k-means algorithm."
   ]
  },
  {
   "cell_type": "code",
   "execution_count": null,
   "metadata": {},
   "outputs": [],
   "source": [
    "!pip install scikit-learn"
   ]
  },
  {
   "cell_type": "code",
   "execution_count": null,
   "metadata": {},
   "outputs": [],
   "source": [
    "from sklearn.cluster import MiniBatchKMeans\n",
    "\n",
    "kmeans = MiniBatchKMeans(n_clusters=num_clusters, random_state=seed)\n",
    "# Fit the K-means object to the customer locations\n",
    "kmeans.fit(customer_locs)\n",
    "\n",
    "# Get the cluster labels for each customer\n",
    "memberships = kmeans.labels_\n",
    "\n",
    "# Get the cluster centers for each cluster\n",
    "centroid_locs = kmeans.cluster_centers_\n",
    "\n",
    "# Get the number of customers in each cluster\n",
    "weights = list(np.histogram(memberships, bins=num_clusters)[0])\n",
    "\n",
    "# Print the first cluster center and the weights for the first 10 clusters\n",
    "print(\"First cluster center:\", centroid_locs[0])\n",
    "print(\"Weights for the first 10 clusters:\", weights[:10])"
   ]
  },
  {
   "cell_type": "code",
   "execution_count": null,
   "metadata": {},
   "outputs": [],
   "source": [
    "# Visualize the clusters\n",
    "centers_x = centroid_locs[:, 0]\n",
    "centers_y = centroid_locs[:, 1]\n",
    "\n",
    "plt.figure(figsize=(8, 8))\n",
    "plt.scatter(customers_x, customers_y, c=memberships, alpha=0.4, s=0.5)\n",
    "plt.scatter(centers_x, centers_y, c=\"blue\", marker=\"^\", alpha=0.8, s=12)\n",
    "plt.xlabel(\"X Coordinate\")\n",
    "plt.ylabel(\"Y Coordinate\")\n",
    "plt.title(\"Customer Clusters\")\n",
    "plt.show()"
   ]
  },
  {
   "cell_type": "code",
   "execution_count": null,
   "metadata": {},
   "outputs": [],
   "source": [
    "# Visualize customer centers and facilities\n",
    "plt.figure(figsize=(8, 8))\n",
    "plt.scatter(centers_x, centers_y, c=\"blue\", marker=\"^\", alpha=0.6, s=12)\n",
    "plt.scatter(facilities_x, facilities_y, c=\"r\", marker=\"s\", alpha=0.8, s=20)\n",
    "plt.xlabel(\"X Coordinate\")\n",
    "plt.ylabel(\"Y Coordinate\")\n",
    "plt.title(\"Cluster Centroids and Facilities\")\n",
    "plt.show()"
   ]
  },
  {
   "cell_type": "markdown",
   "metadata": {},
   "source": [
    "### Viable customer-facility pairings\n",
    "\n",
    "We do not need to consider all possible pairings between customer clusters and facility locations, as some of them may be too far apart to be feasible. We can use a heuristic to filter out the pairings that exceed a given distance threshold. This will reduce the size of our optimization model and make it easier to solve.\n",
    "\n",
    "We define a function to compute the Euclidean distance between two locations, and then use a dictionary comprehension to create a dictionary of viable pairings. The keys of the dictionary are tuples of facility and cluster indices, and the values are the distances between them. We only include the pairings that have a distance less than the threshold $\\tau$."
   ]
  },
  {
   "cell_type": "code",
   "execution_count": null,
   "metadata": {},
   "outputs": [],
   "source": [
    "def dist(loc1, loc2):\n",
    "    return np.linalg.norm(loc1 - loc2, ord=2)  # Euclidean distance\n",
    "\n",
    "\n",
    "pairings = {\n",
    "    (j, i): dist(facility_locs[j], centroid_locs[i])\n",
    "    for j in range(num_candidates)\n",
    "    for i in range(num_clusters)\n",
    "    if dist(facility_locs[j], centroid_locs[i]) < threshold\n",
    "}\n",
    "\n",
    "print(\"Number of all pairings: {}\".format(num_candidates * num_clusters))\n",
    "print(\"Number of viable pairings: {}\".format(len(pairings.keys())))"
   ]
  },
  {
   "cell_type": "markdown",
   "metadata": {},
   "source": [
    "## The concrete Pyomo model"
   ]
  },
  {
   "cell_type": "code",
   "execution_count": null,
   "metadata": {},
   "outputs": [],
   "source": [
    "!pip install gurobipy pyomo\n",
    "\n",
    "import pyomo.environ as pyo\n",
    "from pyomo.opt import SolverFactory\n",
    "\n",
    "# Include your WSL license information\n",
    "solver_options = {}"
   ]
  },
  {
   "cell_type": "code",
   "execution_count": null,
   "metadata": {},
   "outputs": [],
   "source": [
    "# Create the model\n",
    "mod = pyo.ConcreteModel(name=\"FLP\")\n",
    "\n",
    "# Decision variables\n",
    "mod.y = pyo.Var(range(num_candidates), domain=pyo.Binary)\n",
    "mod.x = pyo.Var(pairings.keys(), domain=pyo.Binary)\n",
    "\n",
    "# Objective\n",
    "expr = sum(weights[i] * pairings[j, i] * mod.x[j, i] for (j, i) in pairings.keys())\n",
    "mod.obj = pyo.Objective(expr=expr, sense=pyo.minimize)"
   ]
  },
  {
   "cell_type": "code",
   "execution_count": null,
   "metadata": {},
   "outputs": [],
   "source": [
    "# Constraints\n",
    "\n",
    "# Do not open more than m facilities\n",
    "mod.max_open = pyo.Constraint(expr=sum(mod.y[j] for j in range(num_candidates)) <= max_facilities)\n",
    "\n",
    "# Do not assign customers to closed facilities\n",
    "mod.open_assign = pyo.ConstraintList()\n",
    "\n",
    "for j, i in pairings.keys():\n",
    "    mod.open_assign.add(mod.x[j, i] <= mod.y[j])\n",
    "\n",
    "# Assign each cluster to exactly one facility\n",
    "mod.cluster_assign = pyo.ConstraintList()\n",
    "\n",
    "for i in range(num_clusters):\n",
    "    expr = sum(mod.x[j, i] for j in range(num_candidates) if (j, i) in pairings.keys())\n",
    "    mod.cluster_assign.add(expr == 1)"
   ]
  },
  {
   "cell_type": "code",
   "execution_count": null,
   "metadata": {},
   "outputs": [],
   "source": [
    "# Call the solve and solve the model\n",
    "opt = SolverFactory(\"gurobi\", solver_io=\"python\", manage_env=True, solver_options=solver_options)\n",
    "results = opt.solve(mod, tee=True)"
   ]
  },
  {
   "cell_type": "markdown",
   "metadata": {},
   "source": [
    "## Solution analysis\n",
    "\n",
    "To visualize our solution, we can plot a map of the customer and facility locations. The map shows the following features:\n",
    "\n",
    "- The customer locations are shown as small green dots. These are the original data points that we clustered using the k-means algorithm.\n",
    "- The customer cluster centroids are shown as blue triangles. These are the representative locations that we used in our optimization model.\n",
    "- The facility location candidates are shown as red squares. These are the possible sites where we can open a facility.\n",
    "- The selected facility locations are shown as black squares. These are the sites where we decided to open a facility, based on our optimization model.\n",
    "- The cluster-facility assignments are shown as black lines. These are the connections between the customer clusters and the facilities that serve them. Notice that each cluster is assigned to exactly one facility, and each facility serves one or more clusters."
   ]
  },
  {
   "cell_type": "code",
   "execution_count": null,
   "metadata": {},
   "outputs": [],
   "source": [
    "open_facilities = [j for j in range(num_candidates) if pyo.value(mod.y[j]) > 0.5]\n",
    "assignments = [(j, i) for (j, i) in pairings if pyo.value(mod.x[j, i]) > 0.5]\n",
    "\n",
    "open_facility_x = facility_locs[open_facilities][:, 0]\n",
    "open_facility_y = facility_locs[open_facilities][:, 1]\n",
    "\n",
    "plt.figure(figsize=(8, 8))\n",
    "plt.scatter(customers_x, customers_y, c=\"g\", alpha=0.25, s=0.5)\n",
    "plt.scatter(centers_x, centers_y, c=\"b\", marker=\"^\", alpha=0.8, s=12)\n",
    "plt.scatter(facilities_x, facilities_y, c=\"r\", marker=\"s\", alpha=0.6, s=20)\n",
    "plt.scatter(open_facility_x, open_facility_y, c=\"black\", marker=\"s\", alpha=0.9, s=22)\n",
    "\n",
    "for j, i in assignments:\n",
    "    plt.plot([facilities_x[j], centers_x[i]], [facilities_y[j], centers_y[i]], c=\"black\", alpha=0.5)\n",
    "\n",
    "plt.xlabel(\"X Coordinate\")\n",
    "plt.ylabel(\"Y Coordinate\")\n",
    "plt.title(\"The Solution\")\n",
    "plt.show()"
   ]
  },
  {
   "cell_type": "markdown",
   "metadata": {},
   "source": [
    "### Exercise\n",
    "\n",
    "* Show the actual customer-facility assignments."
   ]
  },
  {
   "cell_type": "code",
   "execution_count": null,
   "metadata": {},
   "outputs": [],
   "source": [
    "# map each customer to its cluster centroid location\n",
    "customer_assigns = [0] * num_customers\n",
    "for c in range(num_customers):\n",
    "    i = memberships[c]\n",
    "    j = [\n",
    "        j\n",
    "        for j in range(num_candidates)\n",
    "        if (j, i) in pairings.keys() and pyo.value(mod.x[j, i]) > 0.5\n",
    "    ][0]\n",
    "\n",
    "    customer_assigns[c] = j\n",
    "\n",
    "plt.figure(figsize=(8, 8))\n",
    "plt.scatter(customers_x, customers_y, c=customer_assigns, alpha=0.30, s=0.5)\n",
    "plt.scatter(\n",
    "    open_facility_x, open_facility_y, c=open_facilities, marker=\"s\", edgecolors=\"black\", s=30\n",
    ")\n",
    "\n",
    "\n",
    "plt.xlabel(\"X Coordinate\")\n",
    "plt.ylabel(\"Y Coordinate\")\n",
    "plt.title(\"The Solution\")\n",
    "plt.show()"
   ]
  },
  {
   "cell_type": "markdown",
   "metadata": {},
   "source": [
    "- Consider a scenario where opening a facility incurs a fixed cost. Let's categorize candidate facility locations into two types: Downtown and Other. Downtown facilities are those located near the center, specifically within a square box with a length of 0.5 centered at the point $(0, 0)$. Other facilities are located outside this box. To incorporate the fixed cost into the model, we assign a cost of $10K to each Downtown facility and a cost of $2K to each Other facility. Reformulating the model to account for these fixed costs and find the optimal facility locations."
   ]
  },
  {
   "cell_type": "code",
   "execution_count": null,
   "metadata": {},
   "outputs": [],
   "source": [
    "l = 0.5 / 2\n",
    "fixed_cost_downtown = 10_000\n",
    "fixed_cost_other = 2_000\n",
    "\n",
    "\n",
    "# define a function to return the fixed cost\n",
    "def get_fixed_cost(j):\n",
    "    if -l <= facilities_x[j] <= l and -l <= facilities_y[j] <= l:\n",
    "        return fixed_cost_downtown\n",
    "    else:\n",
    "        return fixed_cost_other\n",
    "\n",
    "\n",
    "# delete the current objective function\n",
    "mod.del_component(mod.obj)\n",
    "\n",
    "# create a new objective function\n",
    "expr = sum(get_fixed_cost(j) * mod.y[j] for j in range(num_candidates))\n",
    "expr += sum(weights[i] * pairings[j, i] * mod.x[j, i] for (j, i) in pairings.keys())\n",
    "mod.obj = pyo.Objective(expr=expr, sense=pyo.minimize)"
   ]
  },
  {
   "cell_type": "code",
   "execution_count": null,
   "metadata": {},
   "outputs": [],
   "source": [
    "# resolve the model\n",
    "results = opt.solve(mod, tee=True)"
   ]
  },
  {
   "cell_type": "code",
   "execution_count": null,
   "metadata": {},
   "outputs": [],
   "source": [
    "# plot the solution\n",
    "open_facilities = [j for j in range(num_candidates) if pyo.value(mod.y[j]) > 0.5]\n",
    "assignments = [(j, i) for (j, i) in pairings if pyo.value(mod.x[j, i]) > 0.5]\n",
    "\n",
    "# print the number of open facilities\n",
    "print(\"There are\", len(open_facilities), \"open facilities.\")"
   ]
  },
  {
   "cell_type": "code",
   "execution_count": null,
   "metadata": {},
   "outputs": [],
   "source": [
    "# visualize the solution\n",
    "\n",
    "open_facility_x = facility_locs[open_facilities][:, 0]\n",
    "open_facility_y = facility_locs[open_facilities][:, 1]\n",
    "\n",
    "plt.figure(figsize=(8, 8))\n",
    "plt.scatter(customers_x, customers_y, c=\"g\", alpha=0.15, s=0.4)\n",
    "plt.scatter(centers_x, centers_y, c=\"b\", marker=\"^\", alpha=0.8, s=12, label=\"Centroids\")\n",
    "plt.scatter(facilities_x, facilities_y, c=\"r\", marker=\"s\", alpha=0.6, s=20)\n",
    "plt.scatter(\n",
    "    open_facility_x, open_facility_y, c=\"black\", marker=\"s\", alpha=0.9, s=22, label=\"Open facility\"\n",
    ")\n",
    "\n",
    "for j, i in assignments:\n",
    "    plt.plot([facilities_x[j], centers_x[i]], [facilities_y[j], centers_y[i]], c=\"black\", alpha=0.5)\n",
    "\n",
    "# draw a square around the center with length 2l\n",
    "square_x = [-l, l, l, -l, -l]\n",
    "square_y = [-l, -l, l, l, -l]\n",
    "\n",
    "plt.plot(square_x, square_y, c=\"orange\", alpha=0.75, linestyle=\"--\", label=\"Downtown area\")\n",
    "\n",
    "plt.xlabel(\"X Coordinate\")\n",
    "plt.ylabel(\"Y Coordinate\")\n",
    "plt.title(\"The Solution\")\n",
    "plt.legend()\n",
    "plt.show()"
   ]
  }
 ],
 "metadata": {
  "kernelspec": {
   "display_name": ".venv",
   "language": "python",
   "name": "python3"
  },
  "language_info": {
   "codemirror_mode": {
    "name": "ipython",
    "version": 3
   },
   "file_extension": ".py",
   "mimetype": "text/x-python",
   "name": "python",
   "nbconvert_exporter": "python",
   "pygments_lexer": "ipython3",
   "version": "3.11.6"
  }
 },
 "nbformat": 4,
 "nbformat_minor": 2
}
