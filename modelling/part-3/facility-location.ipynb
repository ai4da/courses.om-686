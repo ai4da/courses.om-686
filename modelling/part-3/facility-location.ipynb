{
 "cells": [
  {
   "cell_type": "markdown",
   "metadata": {},
   "source": [
    "# Facility Location Problem\n",
    "\n",
    "Facility location problems, also known as location analysis [1], are a class of optimization problems that deal with finding the best locations for one or more facilities in a given space. The objective is usually to minimize the total transportation costs between the facilities and the demand points, such as customers, suppliers, or other facilities. However, there may be other factors to consider, such as environmental impact, market competition, or strategic goals.\n",
    "\n",
    "Facility location problems have many practical applications in various domains. For example, in supply chain management and logistics, facility location problems can help us decide where to locate our stores, factories, warehouses, distribution centers, etc., to optimize the flow of goods and services. In public policy, facility location problems can help us plan the allocation of public resources, such as schools, hospitals, fire stations, police stations, etc., to serve the needs of the population. In telecommunications, facility location problems can help us design efficient and reliable networks, such as placing cell towers, routers, servers, etc., to maximize the coverage and quality of service. In particle physics, facility location problems can help us understand the behavior of subatomic particles, such as finding the optimal separation distance between repulsive charges. Another interesting application of facility location problems is cluster analysis, which is a technique for grouping similar data points based on their proximity.\n",
    "\n",
    "In this tutorial, we will solve a specific facility location problem that arises in the retail industry using Pyomo. Suppose we have a set of supermarkets that need to be supplied by a set of warehouses. How many warehouses do we need, and where should we locate them, to minimize the total transportation costs between the warehouses and the supermarkets? To answer this question, we will formulate a mixed-integer programming (MIP) model of this problem, and use an example from the [Gurobi GitHub repository](https://github.com/Gurobi/modeling-examples/)."
   ]
  },
  {
   "cell_type": "markdown",
   "metadata": {},
   "source": [
    "## Problem description\n",
    "\n",
    "A supermarket chain in the UK needs to build warehouses for a set of supermarkets it is opening in Northern England. The locations of the supermarkets have been decided, but the locations of the warehouses have yet to be determined.\n",
    "\n",
    "Several good candidate locations for the warehouses have been identified, but decisions must be made regarding how many warehouses to open and at which candidate locations to build them.\n",
    "\n",
    "Opening many warehouses would be advantageous as this would reduce the average distance a truck has to drive from the warehouse to the supermarket, and hence reduce the delivery cost. However, opening a warehouse has a fixed cost associated with it.\n",
    "\n",
    "In this example, our goal is to find the optimal tradeoff between delivery cost and the cost of building new facilities.\n",
    "\n",
    "## Mathematical formulation\n",
    "\n",
    "### Sets and parameters\n",
    "\n",
    "Let us define the following sets and parameters for our problem:\n",
    "\n",
    "- $I$: Set of supermarkets (customers) that we need to supply.\n",
    "- $J$: Set of potential sites for the warehouses (facilities).\n",
    "\n",
    "- $f_{j}$: Fixed cost for opening a facility at location $j \\in J$.\n",
    "- $d_{i,j}$: Distance between supermarket $i \\in I$ and facility site $j \\in J$.\n",
    "- $c_{i,j}$: Transportation cost per unit of goods shipped from warehouse site $j \\in J$ to supermarket $i \\in I$. We assume that this cost is linearly proportional to the distance $d_{ij}$. That is, $c_{ij} = \\alpha \\, d_{ij}$, where $\\alpha$ is a constant that represents the cost per mile of driving, adjusted for the expected number of trips a delivery truck would make over a five-year period.\n",
    "\n",
    "### Decision variables\n",
    "\n",
    "We use the following variables to represent our decisions:\n",
    "\n",
    "- $y_{j}$: A binary variable that indicates whether we build a warehouse at site $j \\in J$ or not. It is equal to 1 if we build a warehouse there, and 0 otherwise.\n",
    "\n",
    "- $x_{i,j}$: A continuous variable that represents the fraction of goods that supermarket $i \\in I$ receives from warehouse site $j \\in J$. It is bounded between 0 and 1, meaning that each supermarket can receive goods from one or more warehouses to meet its demand."
   ]
  },
  {
   "cell_type": "markdown",
   "metadata": {},
   "source": [
    "### Objective function\n",
    "\n",
    "Our goal is to minimize the total cost of building and running the warehouses. This cost consists of two parts: the facility cost and the delivery cost. The facility cost is the sum of the fixed costs of opening the warehouses at the chosen sites. The delivery cost is the sum of the transportation costs of shipping goods from the warehouses to the supermarkets. We want to find the best tradeoff between these two costs over a five-year period.\n",
    "\n",
    "The objective function is:\n",
    "$$\n",
    "\\min \\ Z = \\sum_{j \\in J} f_{j}\\, y_{j} + \\sum_{i \\in I} \\sum_{j \\in J} c_{ij}\\, x_{ij}\n",
    "$$\n",
    "\n",
    "### Constraints\n",
    "\n",
    "We need to satisfy the following constraints for our problem:\n",
    "\n",
    "- Demand. Each supermarket must receive enough goods to meet its demand. This means that the sum of the fractions of goods that it receives from all the warehouses must be equal to 1:\n",
    "\n",
    "$$\n",
    "\\sum_{j \\in J} x_{ij} = 1, \\quad \\forall i \\in I\n",
    "$$\n",
    "\n",
    "- Shipping. We can only ship goods from a warehouse site if we have built a warehouse there. This means that the fraction of goods that a supermarket receives from a warehouse site cannot exceed the binary variable that indicates whether we have built a warehouse there or not:\n",
    "\n",
    "$$\n",
    "x_{ij} \\leq y_{j}, \\quad \\forall i \\in I, \\ j \\in J\n",
    "$$"
   ]
  },
  {
   "cell_type": "markdown",
   "metadata": {},
   "source": [
    "## A problem instance\n",
    "\n",
    "Let us consider a concrete example of our problem. We have two supermarkets and nine potential warehouse sites in a two-dimensional space. The following table gives the coordinates of the supermarkets.\n",
    "\n",
    "|  | Coordinates |  \n",
    "| --- | --- | \n",
    "| S1 | (0,1.5) |\n",
    "| S2 | (2.5,1.2) |\n",
    "\n",
    "The next table gives the coordinates and the fixed costs of the warehouse sites. The costs are in millions of GBP.\n",
    "\n",
    "|  | Coordinates | Fixed cost |\n",
    "| --- | --- |  --- |\n",
    "| W1 | (0,0) | 3 |\n",
    "| W2 | (0,1) | 2 |\n",
    "| W3 | (0,2) | 3 |\n",
    "| W4 | (1,0) | 1 |\n",
    "| W5 | (1,1) | 3 | \n",
    "| W6 | (1,2) | 3 |\n",
    "| W7 | (2,0) | 4 |\n",
    "| W8 | (2,1) | 3 |  \n",
    "| W9 | (2,2) | 2 |\n",
    "\n",
    "We assume that the transportation cost per unit of goods shipped is one million GBP per mile. That is, $\\alpha = 1$ in our model."
   ]
  },
  {
   "cell_type": "code",
   "execution_count": null,
   "metadata": {},
   "outputs": [],
   "source": [
    "# sets\n",
    "I = set([\"S1\", \"S2\"])\n",
    "J = set([f\"W{i}\" for i in range(1, 10)])\n",
    "\n",
    "# parameters\n",
    "location = {\n",
    "    \"S1\": (0, 1.5),\n",
    "    \"S2\": (2.5, 1.2),\n",
    "    \"W1\": (0, 0),\n",
    "    \"W2\": (0, 1),\n",
    "    \"W3\": (0, 2),\n",
    "    \"W4\": (1, 0),\n",
    "    \"W5\": (1, 1),\n",
    "    \"W6\": (1, 2),\n",
    "    \"W7\": (2, 0),\n",
    "    \"W8\": (2, 1),\n",
    "    \"W9\": (2, 2),\n",
    "}\n",
    "\n",
    "fixed_cost = {\"W1\": 3, \"W2\": 2, \"W3\": 3, \"W4\": 1, \"W5\": 3, \"W6\": 3, \"W7\": 4, \"W8\": 3, \"W9\": 2}\n",
    "\n",
    "alpha = 1.0"
   ]
  },
  {
   "cell_type": "code",
   "execution_count": null,
   "metadata": {},
   "outputs": [],
   "source": [
    "# Visualize the points on the plain\n",
    "from matplotlib import pyplot as plt\n",
    "\n",
    "plt.scatter(\n",
    "    x=[location[i][0] for i in location if i in I],\n",
    "    y=[location[i][1] for i in location if i in I],\n",
    "    c=\"red\",\n",
    "    label=\"I\",\n",
    ")\n",
    "plt.scatter(\n",
    "    x=[location[j][0] for j in location if j in J],\n",
    "    y=[location[j][1] for j in location if j in J],\n",
    "    c=\"blue\",\n",
    "    label=\"J\",\n",
    "    marker=\"s\",\n",
    ")\n",
    "\n",
    "plt.legend()\n",
    "plt.show()"
   ]
  },
  {
   "cell_type": "markdown",
   "metadata": {},
   "source": [
    "Now, let's define a function to compute the shipping costs"
   ]
  },
  {
   "cell_type": "code",
   "execution_count": null,
   "metadata": {},
   "outputs": [],
   "source": [
    "from math import sqrt\n",
    "\n",
    "\n",
    "def shipping_cost(source, destination):\n",
    "    x1, y1 = source\n",
    "    x2, y2 = destination\n",
    "\n",
    "    distance = sqrt((x2 - x1) ** 2 + (y2 - y1) ** 2)\n",
    "\n",
    "    cost = alpha * distance\n",
    "\n",
    "    return cost"
   ]
  },
  {
   "cell_type": "markdown",
   "metadata": {},
   "source": [
    "## The concrete Pyomo model"
   ]
  },
  {
   "cell_type": "code",
   "execution_count": null,
   "metadata": {},
   "outputs": [],
   "source": [
    "!pip install gurobipy pyomo\n",
    "\n",
    "import pyomo.environ as pyo\n",
    "from pyomo.opt import SolverFactory\n",
    "\n",
    "# Include your WSL license information\n",
    "solver_options = {}"
   ]
  },
  {
   "cell_type": "code",
   "execution_count": null,
   "metadata": {},
   "outputs": [],
   "source": [
    "# Create the model\n",
    "mod = pyo.ConcreteModel(name=\"FLP\")\n",
    "\n",
    "# Decision variables\n",
    "mod.y = pyo.Var(J, domain=pyo.Binary)\n",
    "mod.x = pyo.Var(I, J, domain=pyo.NonNegativeReals, bounds=(0, 1))\n",
    "\n",
    "# Objective\n",
    "expr = sum(fixed_cost[j] * mod.y[j] for j in J)\n",
    "expr += sum(shipping_cost(location[i], location[j]) * mod.x[i, j] for i in I for j in J)\n",
    "mod.obj = pyo.Objective(expr=expr, sense=pyo.minimize)\n",
    "\n",
    "mod.obj.pprint()"
   ]
  },
  {
   "cell_type": "code",
   "execution_count": null,
   "metadata": {},
   "outputs": [],
   "source": [
    "# Constraints\n",
    "mod.demand = pyo.ConstraintList()\n",
    "mod.shipping = pyo.ConstraintList()\n",
    "\n",
    "for i in I:\n",
    "    mod.demand.add(sum(mod.x[i, j] for j in J) == 1)\n",
    "\n",
    "for i in I:\n",
    "    for j in J:\n",
    "        mod.shipping.add(mod.x[i, j] <= mod.y[j])"
   ]
  },
  {
   "cell_type": "code",
   "execution_count": null,
   "metadata": {},
   "outputs": [],
   "source": [
    "# Call the solve and solve the model\n",
    "opt = SolverFactory(\"gurobi\", solver_io=\"python\", manage_env=True, solver_options=solver_options)\n",
    "results = opt.solve(mod, tee=True)"
   ]
  },
  {
   "cell_type": "markdown",
   "metadata": {},
   "source": [
    "## Solution analysis\n",
    "\n",
    "- Objective value:"
   ]
  },
  {
   "cell_type": "code",
   "execution_count": null,
   "metadata": {},
   "outputs": [],
   "source": [
    "print(\"Total cost: {:.4f} Million GBP\".format(pyo.value(mod.obj)))"
   ]
  },
  {
   "cell_type": "markdown",
   "metadata": {},
   "source": [
    "- Warehouse build plan: This plan determines the site locations at which we open a warehouse."
   ]
  },
  {
   "cell_type": "code",
   "execution_count": null,
   "metadata": {},
   "outputs": [],
   "source": [
    "warehouses = [j for j in J if mod.y[j].value > 0.5]\n",
    "print(\"Opened warehouses:\", warehouses)"
   ]
  },
  {
   "cell_type": "markdown",
   "metadata": {},
   "source": [
    "- Shipment plan. This plan indicates how much goods each warehouse sends to each supermarket."
   ]
  },
  {
   "cell_type": "code",
   "execution_count": null,
   "metadata": {},
   "outputs": [],
   "source": [
    "for i in I:\n",
    "    for j in J:\n",
    "        val = 100 * pyo.value(mod.x[i, j])\n",
    "        if val > 1.0e-6:\n",
    "            print(f\"Supermarket {i} receives {val:.1f}% of demand from warehouse {j}\")"
   ]
  },
  {
   "cell_type": "code",
   "execution_count": null,
   "metadata": {},
   "outputs": [],
   "source": [
    "# Visualize the assignments\n",
    "from matplotlib import pyplot as plt\n",
    "\n",
    "plt.scatter(\n",
    "    x=[location[i][0] for i in location if i in I],\n",
    "    y=[location[i][1] for i in location if i in I],\n",
    "    c=\"red\",\n",
    ")\n",
    "plt.scatter(\n",
    "    x=[location[j][0] for j in location if j in J],\n",
    "    y=[location[j][1] for j in location if j in J],\n",
    "    c=\"blue\",\n",
    "    marker=\"s\",\n",
    ")\n",
    "\n",
    "for i in I:\n",
    "    for j in J:\n",
    "        if pyo.value(mod.x[i, j]) > 1.0e-6:\n",
    "            plt.plot(\n",
    "                [location[i][0], location[j][0]],\n",
    "                [location[i][1], location[j][1]],\n",
    "                c=\"black\",\n",
    "                alpha=0.5,\n",
    "            )\n",
    "\n",
    "plt.show()"
   ]
  },
  {
   "cell_type": "markdown",
   "metadata": {},
   "source": [
    "##  References\n",
    "\n",
    "[1] Laporte, Gilbert, Stefan Nickel, and Saldanha da Gama, Francisco. Location Science. Springer, 2015."
   ]
  }
 ],
 "metadata": {
  "kernelspec": {
   "display_name": ".venv",
   "language": "python",
   "name": "python3"
  },
  "language_info": {
   "codemirror_mode": {
    "name": "ipython",
    "version": 3
   },
   "file_extension": ".py",
   "mimetype": "text/x-python",
   "name": "python",
   "nbconvert_exporter": "python",
   "pygments_lexer": "ipython3",
   "version": "3.11.6"
  }
 },
 "nbformat": 4,
 "nbformat_minor": 2
}
