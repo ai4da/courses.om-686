{
 "cells": [
  {
   "cell_type": "markdown",
   "metadata": {},
   "source": [
    "# Newsvendor Problem with Demand Uncertainty\n",
    "\n",
    "The newsvendor problem is a classical optimization problem in supply chain management and inventory control. It deals with the challenge of determining the optimal order quantity for a perishable product with uncertain demand. The problem is named after the scenario of a newsstand owner who needs to decide how many newspapers to order for the next day's business.\n",
    "\n",
    "In the newsvendor problem, the retailer faces two types of costs:\n",
    "\n",
    "- Holding cost: The cost incurred for storing unsold items at the end of the day.\n",
    "- Shortage cost: The cost associated with not having enough inventory to meet customer demand, leading to lost sales or backorder penalties.\n",
    "\n",
    "The optimal order quantity needs to balance these two costs while considering the uncertainty in demand. With perfect information about demand (which is never the case), the retailer could order the exact amount needed and avoid both costs. However, due to demand uncertainty, making the optimal decision is challenging. The newsvendor problem has applications in various industries, including retail, fashion, and perishable goods, where accurate demand forecasting is crucial for efficient inventory management and profitability.\n",
    "\n",
    "This tutorial demonstrates how to formulate the newsvendor problem with demand uncertainty as a mathematical optimization problem, implement the problem using Pyomo, and solve it to obtain the optimal order quantity that minimizes the expected cost."
   ]
  },
  {
   "cell_type": "markdown",
   "metadata": {},
   "source": [
    "## Problem Formulation\n",
    "\n",
    "Consider $D$ as a random variable representing the anticipated demand for the upcoming day. Each unit is procured at a cost of $c$. The expense associated with maintaining an item in inventory is represented by $h$, while $b$ denotes the penalty incurred when the inventory falls short of demand. The objective is to determine an order quantity, denoted by $x$, that minimizes the expected total cost.\n",
    "The expected cost of ordering $x$ items is given by:\n",
    "\n",
    "$$\n",
    "\\begin{align*}\n",
    "\\mathbb{E}\\!\\left[\\text{cost}\\right] & {}={} && c\\,x + h\\, \\mathbb{E}\\!\\left[x - D\\right]^+ + b\\, \\mathbb{E}\\!\\left[D - x\\right]^+ \\\\\n",
    " & {}={} && \\mathbb{E}\\!\\left[\\max\\{ (c + h)\\, x - h\\,D , (c - b)\\, x + b\\,D\\}\\right] \n",
    "\\end{align*}\n",
    "$$"
   ]
  },
  {
   "cell_type": "markdown",
   "metadata": {},
   "source": [
    "## Reading the Historical Data\n",
    "\n",
    "The historical data contains information about demand under various conditions, such as weather, day of the week, location, etc. Let's explore the features and visualize the demand distribution to better understand the data."
   ]
  },
  {
   "cell_type": "code",
   "execution_count": null,
   "metadata": {},
   "outputs": [],
   "source": [
    "# Install necessary libraries\n",
    "\n",
    "!pip install numpy pandas matplotlib scikit-learn\n",
    "!pip install gurobipy pyomo"
   ]
  },
  {
   "cell_type": "code",
   "execution_count": null,
   "metadata": {},
   "outputs": [],
   "source": [
    "import numpy as np\n",
    "import pandas as pd\n",
    "\n",
    "# Read the historical data\n",
    "hist = pd.read_csv(\"nv_hist_data_100.csv\", index_col=0)\n",
    "\n",
    "hist.head()"
   ]
  },
  {
   "cell_type": "code",
   "execution_count": null,
   "metadata": {},
   "outputs": [],
   "source": [
    "# Print the number of features\n",
    "print(\"Number of features:\", hist.shape[1] - 1)\n",
    "\n",
    "# See the demand statistics\n",
    "hist[\"Demand\"].describe()"
   ]
  },
  {
   "cell_type": "code",
   "execution_count": null,
   "metadata": {},
   "outputs": [],
   "source": [
    "# Visualize the demand distribution\n",
    "import matplotlib.pyplot as plt\n",
    "\n",
    "plt.figure(figsize=(7, 5))\n",
    "plt.hist(hist[\"Demand\"], bins=20, edgecolor=\"black\")\n",
    "plt.title(\"Distribution of Demand\")\n",
    "plt.xlabel(\"Demand\")\n",
    "plt.ylabel(\"Frequency\")\n",
    "plt.show()"
   ]
  },
  {
   "cell_type": "markdown",
   "metadata": {},
   "source": [
    "### Create Training and Testing Sets"
   ]
  },
  {
   "cell_type": "code",
   "execution_count": null,
   "metadata": {},
   "outputs": [],
   "source": [
    "from sklearn.model_selection import train_test_split\n",
    "\n",
    "# print the number of features\n",
    "print(\"Num of features:\", hist.shape[1] - 1)"
   ]
  },
  {
   "cell_type": "code",
   "execution_count": null,
   "metadata": {},
   "outputs": [],
   "source": [
    "# Define independent and dependent variables\n",
    "X = hist.iloc[:, :-1].values\n",
    "Y = hist.iloc[:, -1].values\n",
    "\n",
    "print(\"Features:\")\n",
    "print(X[:5], \"...\\n\")\n",
    "print(\"Demands:\")\n",
    "print(Y[:5], \"...\")"
   ]
  },
  {
   "cell_type": "code",
   "execution_count": null,
   "metadata": {},
   "outputs": [],
   "source": [
    "# Split the data into training and test sets\n",
    "X_train, X_test, Y_train, Y_test = train_test_split(X, Y, test_size=0.2, random_state=123)"
   ]
  },
  {
   "cell_type": "markdown",
   "metadata": {},
   "source": [
    "## Model Construction"
   ]
  },
  {
   "cell_type": "code",
   "execution_count": null,
   "metadata": {},
   "outputs": [],
   "source": [
    "import pyomo.environ as pyo\n",
    "from pyomo.opt import SolverFactory\n",
    "\n",
    "solver_options = {}  # You can provide your WSL license information here\n",
    "opt = SolverFactory(\"gurobi\", solver_io=\"python\", manage_env=True, solver_options=solver_options)"
   ]
  },
  {
   "cell_type": "code",
   "execution_count": null,
   "metadata": {},
   "outputs": [],
   "source": [
    "# Define parameters\n",
    "c = 10  # order cost\n",
    "b = 15  # penalty cost\n",
    "h = 1  # holding cost\n",
    "\n",
    "\n",
    "def solve_newsvendor_sample_average(demands):\n",
    "    \"\"\"\n",
    "    Solves the newsvendor problem using the sample average approximation given a list of demand samples.\n",
    "\n",
    "    Parameters:\n",
    "    - demands (list): A list of demand values for each sample.\n",
    "\n",
    "    Returns:\n",
    "    - obj (float): The objective value of the optimization problem.\n",
    "    - sol (float): The optimal order quantity.\n",
    "\n",
    "    \"\"\"\n",
    "    samples = range(len(demands))  # 0, 1, ..., N-1\n",
    "    probability = 1 / len(demands)  # 1/N\n",
    "\n",
    "    model = pyo.ConcreteModel()\n",
    "\n",
    "    # Decision variables:\n",
    "    model.x = pyo.Var(domain=pyo.NonNegativeReals)\n",
    "    model.t = pyo.Var(samples, domain=pyo.NonNegativeReals)\n",
    "\n",
    "    # Objective function\n",
    "    model.cost = pyo.Objective(\n",
    "        expr=sum(probability * model.t[i] for i in samples), sense=pyo.minimize\n",
    "    )\n",
    "\n",
    "    # Constraints\n",
    "    model.cons = pyo.ConstraintList()\n",
    "    for i in samples:\n",
    "        model.cons.add(expr=model.t[i] >= (c + h) * model.x - h * demands[i])\n",
    "        model.cons.add(expr=model.t[i] >= (c - b) * model.x + b * demands[i])\n",
    "\n",
    "    # Solve the optimization problem\n",
    "    opt.solve(model)\n",
    "\n",
    "    # Get the objective value\n",
    "    obj_val = pyo.value(model.cost)\n",
    "\n",
    "    # Get the order quantity\n",
    "    quantity = pyo.value(model.x)\n",
    "\n",
    "    return obj_val, quantity"
   ]
  },
  {
   "cell_type": "code",
   "execution_count": null,
   "metadata": {},
   "outputs": [],
   "source": [
    "def get_solution_cost(quantity, demand):\n",
    "    \"\"\"\n",
    "    Calculates the cost of a solution for a newsvendor problem.\n",
    "\n",
    "    Parameters:\n",
    "    - quantity (int): The order quantity.\n",
    "    - demand (int): The demand for the items.\n",
    "\n",
    "    Returns:\n",
    "    - total_cost (float): The cost of the solution.\n",
    "\n",
    "    \"\"\"\n",
    "    total_cost = c * quantity + h * max(0, quantity - demand) + b * max(0, demand - quantity)\n",
    "    return total_cost"
   ]
  },
  {
   "cell_type": "markdown",
   "metadata": {},
   "source": [
    "## Solution Approaches\n",
    "\n",
    "We will explore three different approaches to solve the newsvendor problem:\n",
    "\n",
    "1. Expected Value Approximation (EVA): This approach uses the expected value (mean) of the demand distribution as the optimal order quantity. While simple, this approach may not perform well when the demand distribution is skewed or has significant variability.\n",
    "2. Sample Average Approximation (SAA): This approach solves the newsvendor problem using a sample of demand realizations and takes the average of the optimal solutions.\n",
    "3. Predict Then Optimize (PTO): In this approach, we first use a machine learning model (e.g., linear regression) to predict the demand based on the available features. Then, we solve the newsvendor problem using the predicted demand as the deterministic demand value. This approach may perform well if the prediction model can accurately capture the demand patterns."
   ]
  },
  {
   "cell_type": "markdown",
   "metadata": {},
   "source": [
    "### Approach 1: Expected Value Approximation"
   ]
  },
  {
   "cell_type": "code",
   "execution_count": null,
   "metadata": {},
   "outputs": [],
   "source": [
    "demand_eva = np.mean(Y_train)\n",
    "quantity_eva = demand_eva  # deterministic solution\n",
    "obj_val_eva = get_solution_cost(quantity_eva, demand_eva)\n",
    "\n",
    "print(\"Expected Value Approximation:\")\n",
    "print(\"Optimal cost:\", obj_val_eva)\n",
    "print(\"Optimal order quantity:\", quantity_eva)"
   ]
  },
  {
   "cell_type": "markdown",
   "metadata": {},
   "source": [
    "### Approach 2: Sample Average Approximation\n",
    "\n",
    "This approach provides a more robust solution by considering the demand variability and minimizing the expected cost over the sample. However, it may require more computational resources, especially for large sample sizes.\n"
   ]
  },
  {
   "cell_type": "code",
   "execution_count": null,
   "metadata": {},
   "outputs": [],
   "source": [
    "# We know the actual sample demands\n",
    "obj_val_ssa, quantity_ssa = solve_newsvendor_sample_average(Y_train)\n",
    "\n",
    "print(\"Sample Average Approximation:\")\n",
    "print(\"Optimal cost:\", obj_val_ssa)\n",
    "print(\"Optimal order quantity:\", quantity_ssa)"
   ]
  },
  {
   "cell_type": "markdown",
   "metadata": {},
   "source": [
    "### Approach 3: Predict Then Optimize\n",
    "\n",
    "In this implementation, we use a linear regression model for simplicity, but other machine learning models, such as tree-based models, could be explored to potentially improve the predictive performance."
   ]
  },
  {
   "cell_type": "code",
   "execution_count": null,
   "metadata": {},
   "outputs": [],
   "source": [
    "from sklearn.linear_model import LinearRegression\n",
    "\n",
    "# Run a linear regression model to predict the demand\n",
    "ml = LinearRegression()\n",
    "ml.fit(X_train, Y_train)\n",
    "\n",
    "# Predict the demand\n",
    "Y_pred = ml.predict(X_test)\n",
    "\n",
    "Y_pred"
   ]
  },
  {
   "cell_type": "code",
   "execution_count": null,
   "metadata": {},
   "outputs": [],
   "source": [
    "solutions_pred = [demand_pred for demand_pred in Y_pred]  # deterministic solutions"
   ]
  },
  {
   "cell_type": "markdown",
   "metadata": {},
   "source": [
    "### Calculate Errors"
   ]
  },
  {
   "cell_type": "code",
   "execution_count": null,
   "metadata": {},
   "outputs": [],
   "source": [
    "def calculate_error(true_demands, quantities):\n",
    "    \"\"\"\n",
    "    Calculates the relative error between the true costs and the estimated costs for the given solutions.\n",
    "\n",
    "    Parameters:\n",
    "    - true_demands (list): A list of actual demand values.\n",
    "    - quantities (list): A list of order quantities corresponding to the demand values.\n",
    "\n",
    "    Returns:\n",
    "    - relative_error (float): The relative error between the true costs and the estimated costs.\n",
    "\n",
    "    \"\"\"\n",
    "    true_solutions = true_demands\n",
    "    true_costs = np.array(\n",
    "        [\n",
    "            get_solution_cost(solution, demand)\n",
    "            for solution, demand in zip(true_solutions, true_demands)\n",
    "        ]\n",
    "    )\n",
    "    estimated_costs = np.array(\n",
    "        [get_solution_cost(quantity, demand) for quantity, demand in zip(quantities, true_demands)]\n",
    "    )\n",
    "\n",
    "    diffs = np.sum(np.abs(true_costs - estimated_costs))\n",
    "    relative_error = diffs / np.sum(true_costs)\n",
    "\n",
    "    return relative_error"
   ]
  },
  {
   "cell_type": "markdown",
   "metadata": {},
   "source": [
    "The relative error metric calculates the absolute difference between the true costs and the estimated costs, and then normalizes it by the sum of the true costs. This metric provides a measure of how well the different approaches perform in terms of minimizing the total cost."
   ]
  },
  {
   "cell_type": "code",
   "execution_count": null,
   "metadata": {},
   "outputs": [],
   "source": [
    "# Expected value approximation\n",
    "quantities = [quantity_eva] * len(Y_test)  # same order quantity for all upcoming days\n",
    "error_eva = calculate_error(Y_test, quantities)\n",
    "\n",
    "# Sample average approximation\n",
    "quantities = [quantity_ssa] * len(Y_test)  # same order quantity for all upcoming days\n",
    "error_ssa = calculate_error(Y_test, quantities)\n",
    "\n",
    "# Prediction\n",
    "quantities = solutions_pred  # predicted quantity for each upcoming day\n",
    "error_pred = calculate_error(Y_test, quantities)\n",
    "\n",
    "print(\"Expected value approximation error: {:.1%}\".format(error_eva))\n",
    "print(\"Sample average approximation error: {:.1%}\".format(error_ssa))\n",
    "print(\"Linear regression prediction error: {:.1%}\".format(error_pred))"
   ]
  },
  {
   "cell_type": "markdown",
   "metadata": {},
   "source": [
    "### Exercise\n",
    "\n",
    "Implement the *Predict-Then-Optimize* approach using a decision tree regressor."
   ]
  },
  {
   "cell_type": "code",
   "execution_count": null,
   "metadata": {},
   "outputs": [],
   "source": [
    "from sklearn.tree import DecisionTreeRegressor\n",
    "\n",
    "ml = DecisionTreeRegressor()\n",
    "ml.fit(X_train, Y_train)\n",
    "\n",
    "# Predict the demand\n",
    "Y_pred = ml.predict(X_test)\n",
    "\n",
    "solutions_pred = [demand_pred for demand_pred in Y_pred]  # deterministic solutions\n",
    "\n",
    "print(solutions_pred)"
   ]
  },
  {
   "cell_type": "code",
   "execution_count": null,
   "metadata": {},
   "outputs": [],
   "source": [
    "quantities = solutions_pred  # predicted quantity for each upcoming day\n",
    "error_pred = calculate_error(Y_test, quantities)\n",
    "\n",
    "print(\"Decision tree prediction error: {:.1%}\".format(error_pred))"
   ]
  }
 ],
 "metadata": {
  "kernelspec": {
   "display_name": ".venv",
   "language": "python",
   "name": "python3"
  },
  "language_info": {
   "codemirror_mode": {
    "name": "ipython",
    "version": 3
   },
   "file_extension": ".py",
   "mimetype": "text/x-python",
   "name": "python",
   "nbconvert_exporter": "python",
   "pygments_lexer": "ipython3",
   "version": "3.11.8"
  }
 },
 "nbformat": 4,
 "nbformat_minor": 2
}
