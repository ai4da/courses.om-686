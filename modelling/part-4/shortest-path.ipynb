{
 "cells": [
  {
   "cell_type": "markdown",
   "metadata": {},
   "source": [
    "# Shortest Path Problem with Travel Time Uncertainty\n",
    "\n",
    "In this lecture, we will explore the shortest path problem on a 5×5 grid with 25 nodes and 40 arcs. The unique aspect of this problem is that the travel times are uncertain. However, we have access to historical data spanning the last 100 days, which provides valuable insights into the travel times under various conditions such as weather and traffic.\n",
    "\n",
    "Throughout this notebook, we will leverage this historical data to develop strategies for finding the shortest path while considering the uncertainty in travel times. By the end, you will have a solid understanding of how to use historical data to tackle optimization problem in scenarios where some level of uncertainty is present."
   ]
  },
  {
   "cell_type": "code",
   "execution_count": null,
   "metadata": {},
   "outputs": [],
   "source": [
    "# Install necessary libraries\n",
    "\n",
    "!pip install networkx  # Used to construct the graph\n",
    "!pip install numpy pandas scikit-learn\n",
    "!pip install gurobipy pyomo"
   ]
  },
  {
   "cell_type": "markdown",
   "metadata": {},
   "source": [
    "## Constructing the Graph\n",
    "\n",
    "The grid graph has each node connected to its nearest adjacent neighbors. The following code creates a 5x5 grid with 25 nodes and 40 edges. The nodes are labeled as $(i, j)$, where $i$ and $j$ are integers ranging from 0 to $M-1$. The edges represent the connections between adjacent nodes in the grid. This graph can be used to model various optimization problems on a grid, such as the shortest path problem.\n"
   ]
  },
  {
   "cell_type": "code",
   "execution_count": null,
   "metadata": {},
   "outputs": [],
   "source": [
    "import networkx as nx\n",
    "\n",
    "# Create a grid graph with M nodes on each edge\n",
    "M = 5\n",
    "G = nx.grid_2d_graph(M, M)\n",
    "\n",
    "# Draw the grid graph with node labels\n",
    "nx.draw(G, with_labels=True)"
   ]
  },
  {
   "cell_type": "code",
   "execution_count": null,
   "metadata": {},
   "outputs": [],
   "source": [
    "# Define the set of nodes and arcs\n",
    "N = sorted(list(G.nodes()))\n",
    "A = sorted(list(G.edges()))\n",
    "\n",
    "print(\"First 10 nodes:\", N[:10])\n",
    "print(\"First 10 arcs:\")\n",
    "for arc in A[:10]:\n",
    "    print(arc)"
   ]
  },
  {
   "cell_type": "markdown",
   "metadata": {},
   "source": [
    "## Creating the Model"
   ]
  },
  {
   "cell_type": "markdown",
   "metadata": {},
   "source": [
    "The shortest path problem is formulated as:\n",
    "\n",
    "\\begin{align*}\n",
    "&\\min \\ && \\sum_{(i,j) \\in A} c_{ij}\\, x_{ij} \\\\\n",
    "&\\text{subject to:}\\ && \\sum_{j: (i, j)\\in A} x_{ij} = 1,\\quad && i=O\\\\\n",
    "    & && \\sum_{i: (i, j)\\in A} x_{ij} = 1,\\quad && j=D\\\\\n",
    "    & && \\sum_{j: (i, j)\\in A} x_{ij} = \\sum_{j: (j, i)\\in A} x_{ji},\\quad && i\\in N\\setminus\\{O, D\\}\\\\\n",
    "    & && x_{ij} \\in \\{0, 1\\}, \\quad && i, j\\in N\n",
    "\\end{align*}\n"
   ]
  },
  {
   "cell_type": "code",
   "execution_count": null,
   "metadata": {},
   "outputs": [],
   "source": [
    "import pyomo.environ as pyo\n",
    "from pyomo.opt import SolverFactory\n",
    "\n",
    "solver_options = {}  # You can provide your WSL license information here\n",
    "opt = SolverFactory(\"gurobi\", solver_io=\"python\", manage_env=True, solver_options=solver_options)"
   ]
  },
  {
   "cell_type": "code",
   "execution_count": null,
   "metadata": {},
   "outputs": [],
   "source": [
    "# Define origin and destination\n",
    "O = N[0]\n",
    "D = N[-1]\n",
    "\n",
    "print(O, D)"
   ]
  },
  {
   "cell_type": "code",
   "execution_count": null,
   "metadata": {},
   "outputs": [],
   "source": [
    "# Define a function that solves the shortest path problem for a given cost matrix\n",
    "def solve_sp(costs):\n",
    "    \"\"\"\n",
    "    Solves the shortest path problem using a binary optimization model.\n",
    "\n",
    "    Parameters:\n",
    "    - costs: A list containing the costs of each edge in the graph.\n",
    "\n",
    "    Returns:\n",
    "    - The objective value of the shortest path.\n",
    "    - The selected arcs representing the shortest path.\n",
    "    \"\"\"\n",
    "\n",
    "    mod = pyo.ConcreteModel()\n",
    "    mod.x = pyo.Var(A, domain=pyo.Binary)\n",
    "\n",
    "    mod.obj = pyo.Objective(\n",
    "        expr=sum(costs[i] * mod.x[a] for i, a in enumerate(A)),\n",
    "        sense=pyo.minimize,\n",
    "    )\n",
    "\n",
    "    mod.cons = pyo.ConstraintList()\n",
    "    for i in N:\n",
    "        if i == O:\n",
    "            mod.cons.add(sum(mod.x[a] for a in A if a[0] == i) == 1)\n",
    "        elif i == D:\n",
    "            mod.cons.add(sum(mod.x[a] for a in A if a[1] == i) == 1)\n",
    "        else:\n",
    "            expr1 = sum(mod.x[a] for a in A if a[0] == i)\n",
    "            expr2 = sum(mod.x[a] for a in A if a[1] == i)\n",
    "            mod.cons.add(expr1 == expr2)\n",
    "\n",
    "    # Solve the model\n",
    "    opt.solve(mod)\n",
    "\n",
    "    # Get the objective value\n",
    "    obj = pyo.value(mod.obj)\n",
    "\n",
    "    # Get the selected arcs\n",
    "    sol = [pyo.value(mod.x[a]) for a in A]\n",
    "\n",
    "    return obj, sol"
   ]
  },
  {
   "cell_type": "markdown",
   "metadata": {},
   "source": [
    "## Reading the Historical Data\n",
    "\n",
    "To begin our analysis, we need to read the historical data that contains information about travel times under various conditions. This data spans the last 100 days and will be used to develop strategies for finding the shortest path while considering the uncertainty in travel times."
   ]
  },
  {
   "cell_type": "code",
   "execution_count": null,
   "metadata": {},
   "outputs": [],
   "source": [
    "import pandas as pd\n",
    "\n",
    "# Read the historical data\n",
    "hist = pd.read_csv(\"hist_data_100.csv\", index_col=0)\n",
    "\n",
    "hist.head()"
   ]
  },
  {
   "cell_type": "markdown",
   "metadata": {},
   "source": [
    "## Training the Machine Learning Model\n",
    "\n",
    "### Create Training and Testing Sets"
   ]
  },
  {
   "cell_type": "code",
   "execution_count": null,
   "metadata": {},
   "outputs": [],
   "source": [
    "from sklearn.model_selection import train_test_split\n",
    "\n",
    "# find the number of features\n",
    "F = hist.shape[1] - len(A)\n",
    "F"
   ]
  },
  {
   "cell_type": "code",
   "execution_count": null,
   "metadata": {},
   "outputs": [],
   "source": [
    "# Define independent and dependent variables\n",
    "X = hist.iloc[:, -F:].values\n",
    "Y = hist.iloc[:, :-F].values\n",
    "\n",
    "print(\"Features:\")\n",
    "print(X[0])\n",
    "print(\"\\nCosts:\")\n",
    "print(Y[0])"
   ]
  },
  {
   "cell_type": "code",
   "execution_count": null,
   "metadata": {},
   "outputs": [],
   "source": [
    "from sklearn.linear_model import LinearRegression\n",
    "\n",
    "# Split the data into training and test sets\n",
    "X_train, X_test, Y_train, Y_test = train_test_split(X, Y, test_size=0.2, random_state=2024)\n",
    "\n",
    "# Run a linear regression model to predict the arc costs\n",
    "ml = LinearRegression()\n",
    "ml.fit(X_train, Y_train)"
   ]
  },
  {
   "cell_type": "code",
   "execution_count": null,
   "metadata": {},
   "outputs": [],
   "source": [
    "# Predict the arc costs\n",
    "Y_pred = ml.predict(X_test)\n",
    "\n",
    "# What is the R^2 score of this model?\n",
    "ml.score(X_test, Y_test)"
   ]
  },
  {
   "cell_type": "markdown",
   "metadata": {},
   "source": [
    "## Solve Shortest Path Problems with the Predicted and Actual Costs on the Test Dataset"
   ]
  },
  {
   "cell_type": "code",
   "execution_count": null,
   "metadata": {},
   "outputs": [],
   "source": [
    "def calc_total_cost(cost_matrix):\n",
    "    total_costs = []\n",
    "    solutions = []\n",
    "    # iterate over all observations\n",
    "    for cost_row in cost_matrix:\n",
    "        # calculate the cost of the current observation\n",
    "        obj_val, sol = solve_sp(cost_row)\n",
    "\n",
    "        total_costs.append(obj_val)\n",
    "        solutions.append(sol)\n",
    "\n",
    "    return total_costs, solutions"
   ]
  },
  {
   "cell_type": "code",
   "execution_count": null,
   "metadata": {},
   "outputs": [],
   "source": [
    "total_costs_pred, solution_pred = calc_total_cost(Y_pred)\n",
    "total_costs_true, solution_true = calc_total_cost(Y_test)"
   ]
  },
  {
   "cell_type": "markdown",
   "metadata": {},
   "source": [
    "### Find the Actual Total Costs of the Predicted Paths"
   ]
  },
  {
   "cell_type": "code",
   "execution_count": null,
   "metadata": {},
   "outputs": [],
   "source": [
    "import numpy as np\n",
    "\n",
    "\n",
    "def eval_solution(cost_matrix, solutions):\n",
    "    total_costs = []\n",
    "    # iterate over all solutions\n",
    "    for i in range(len(cost_matrix)):\n",
    "        c = cost_matrix[i]\n",
    "        x = np.array(solutions[i])\n",
    "\n",
    "        total_costs.append(np.dot(c, x))\n",
    "\n",
    "    return total_costs\n",
    "\n",
    "\n",
    "solution_costs = eval_solution(Y_test, solution_pred)"
   ]
  },
  {
   "cell_type": "code",
   "execution_count": null,
   "metadata": {},
   "outputs": [],
   "source": [
    "print(total_costs_pred)\n",
    "print(total_costs_true)\n",
    "print(solution_costs)"
   ]
  },
  {
   "cell_type": "markdown",
   "metadata": {},
   "source": [
    "### Calculate the Error\n",
    "\n",
    "Compare the cost of the actual solutions on the test set with the actual costs of the predicted solutions."
   ]
  },
  {
   "cell_type": "code",
   "execution_count": null,
   "metadata": {},
   "outputs": [],
   "source": [
    "def calc_error(true_costs, predicted_costs):\n",
    "    true_costs = np.array(true_costs)\n",
    "    predicted_costs = np.array(predicted_costs)\n",
    "\n",
    "    diffs = np.sum(np.abs(true_costs - predicted_costs))\n",
    "    return diffs / np.sum(true_costs)\n",
    "\n",
    "\n",
    "err = calc_error(total_costs_true, solution_costs)\n",
    "err"
   ]
  },
  {
   "cell_type": "markdown",
   "metadata": {},
   "source": [
    "## Expected Value Problem"
   ]
  },
  {
   "cell_type": "code",
   "execution_count": null,
   "metadata": {},
   "outputs": [],
   "source": [
    "average_costs = np.mean(Y_test, axis=0)\n",
    "\n",
    "average_costs"
   ]
  },
  {
   "cell_type": "code",
   "execution_count": null,
   "metadata": {},
   "outputs": [],
   "source": [
    "obj_val_avg, sol_avg = solve_sp(average_costs)\n",
    "# repeat solution for all observations\n",
    "sol_avg = [sol_avg] * len(Y_test)\n",
    "\n",
    "solution_costs_avg = eval_solution(Y_test, sol_avg)\n",
    "\n",
    "err = calc_error(total_costs_true, solution_costs_avg)\n",
    "err"
   ]
  }
 ],
 "metadata": {
  "kernelspec": {
   "display_name": ".venv",
   "language": "python",
   "name": "python3"
  },
  "language_info": {
   "codemirror_mode": {
    "name": "ipython",
    "version": 3
   },
   "file_extension": ".py",
   "mimetype": "text/x-python",
   "name": "python",
   "nbconvert_exporter": "python",
   "pygments_lexer": "ipython3",
   "version": "3.11.6"
  }
 },
 "nbformat": 4,
 "nbformat_minor": 2
}
